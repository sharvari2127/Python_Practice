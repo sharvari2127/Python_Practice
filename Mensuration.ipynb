{
 "cells": [
  {
   "cell_type": "code",
   "execution_count": 1,
   "id": "fab9ff93",
   "metadata": {},
   "outputs": [
    {
     "name": "stdout",
     "output_type": "stream",
     "text": [
      "10\n"
     ]
    }
   ],
   "source": [
    "print(10)"
   ]
  },
  {
   "cell_type": "code",
   "execution_count": 3,
   "id": "8fd2be36",
   "metadata": {},
   "outputs": [
    {
     "name": "stdout",
     "output_type": "stream",
     "text": [
      "sharvari\n",
      "develearn\n"
     ]
    }
   ],
   "source": [
    "print(\"sharvari\")\n",
    "print(\"develearn\")"
   ]
  },
  {
   "cell_type": "code",
   "execution_count": 4,
   "id": "dc219f6d",
   "metadata": {},
   "outputs": [
    {
     "name": "stdout",
     "output_type": "stream",
     "text": [
      "sharvari sandesh wairkar\n"
     ]
    }
   ],
   "source": [
    "print(\"sharvari sandesh wairkar\")"
   ]
  },
  {
   "cell_type": "code",
   "execution_count": 6,
   "id": "9ddb8d8b",
   "metadata": {},
   "outputs": [
    {
     "name": "stdout",
     "output_type": "stream",
     "text": [
      "sharvari\n",
      "sandesh\n",
      "wairkar\n"
     ]
    }
   ],
   "source": [
    "print(\"sharvari\\nsandesh\\nwairkar\")"
   ]
  },
  {
   "cell_type": "code",
   "execution_count": 7,
   "id": "87b347ff",
   "metadata": {},
   "outputs": [
    {
     "ename": "NameError",
     "evalue": "name 'Print' is not defined",
     "output_type": "error",
     "traceback": [
      "\u001b[1;31m---------------------------------------------------------------------------\u001b[0m",
      "\u001b[1;31mNameError\u001b[0m                                 Traceback (most recent call last)",
      "\u001b[1;32m~\\AppData\\Local\\Temp/ipykernel_10612/1280879780.py\u001b[0m in \u001b[0;36m<module>\u001b[1;34m\u001b[0m\n\u001b[1;32m----> 1\u001b[1;33m \u001b[0mPrint\u001b[0m\u001b[1;33m(\u001b[0m\u001b[1;34m\"hello\"\u001b[0m\u001b[1;33m)\u001b[0m\u001b[1;33m\u001b[0m\u001b[1;33m\u001b[0m\u001b[0m\n\u001b[0m",
      "\u001b[1;31mNameError\u001b[0m: name 'Print' is not defined"
     ]
    }
   ],
   "source": [
    "Print(\"hello\")"
   ]
  },
  {
   "cell_type": "code",
   "execution_count": 10,
   "id": "4fdd701c",
   "metadata": {},
   "outputs": [
    {
     "name": "stdout",
     "output_type": "stream",
     "text": [
      "9\n"
     ]
    }
   ],
   "source": [
    "A = 9\n",
    "print(A)"
   ]
  },
  {
   "cell_type": "code",
   "execution_count": 11,
   "id": "c66ba806",
   "metadata": {},
   "outputs": [
    {
     "ename": "SyntaxError",
     "evalue": "invalid syntax (Temp/ipykernel_10612/2936034528.py, line 1)",
     "output_type": "error",
     "traceback": [
      "\u001b[1;36m  File \u001b[1;32m\"C:\\Users\\Lenovo\\AppData\\Local\\Temp/ipykernel_10612/2936034528.py\"\u001b[1;36m, line \u001b[1;32m1\u001b[0m\n\u001b[1;33m    a b = 52\u001b[0m\n\u001b[1;37m      ^\u001b[0m\n\u001b[1;31mSyntaxError\u001b[0m\u001b[1;31m:\u001b[0m invalid syntax\n"
     ]
    }
   ],
   "source": [
    "a b = 52\n",
    "print(a b)"
   ]
  },
  {
   "cell_type": "code",
   "execution_count": 12,
   "id": "10bf7948",
   "metadata": {},
   "outputs": [
    {
     "name": "stdout",
     "output_type": "stream",
     "text": [
      "69\n"
     ]
    }
   ],
   "source": [
    "_ = 69\n",
    "print(_)"
   ]
  },
  {
   "cell_type": "code",
   "execution_count": 13,
   "id": "87dda2d0",
   "metadata": {},
   "outputs": [
    {
     "name": "stdout",
     "output_type": "stream",
     "text": [
      "100\n"
     ]
    }
   ],
   "source": [
    "x_y = 100\n",
    "print(x_y)"
   ]
  },
  {
   "cell_type": "code",
   "execution_count": 14,
   "id": "e8a9a44a",
   "metadata": {},
   "outputs": [
    {
     "ename": "SyntaxError",
     "evalue": "invalid syntax (Temp/ipykernel_10612/733554412.py, line 1)",
     "output_type": "error",
     "traceback": [
      "\u001b[1;36m  File \u001b[1;32m\"C:\\Users\\Lenovo\\AppData\\Local\\Temp/ipykernel_10612/733554412.py\"\u001b[1;36m, line \u001b[1;32m1\u001b[0m\n\u001b[1;33m    @ = 12\u001b[0m\n\u001b[1;37m      ^\u001b[0m\n\u001b[1;31mSyntaxError\u001b[0m\u001b[1;31m:\u001b[0m invalid syntax\n"
     ]
    }
   ],
   "source": [
    "@ = 12\n",
    "print(@)"
   ]
  },
  {
   "cell_type": "code",
   "execution_count": 15,
   "id": "ea78a64c",
   "metadata": {},
   "outputs": [
    {
     "name": "stdout",
     "output_type": "stream",
     "text": [
      "72\n"
     ]
    }
   ],
   "source": [
    "a = 12\n",
    "b = 60\n",
    "print(a+b)"
   ]
  },
  {
   "cell_type": "code",
   "execution_count": 16,
   "id": "60611d97",
   "metadata": {},
   "outputs": [
    {
     "name": "stdout",
     "output_type": "stream",
     "text": [
      "42.2\n"
     ]
    }
   ],
   "source": [
    "a = 21\n",
    "b = 21.2\n",
    "print(a+b)"
   ]
  },
  {
   "cell_type": "code",
   "execution_count": 19,
   "id": "83946f63",
   "metadata": {},
   "outputs": [
    {
     "name": "stdout",
     "output_type": "stream",
     "text": [
      "sharvariwairkar\n"
     ]
    }
   ],
   "source": [
    "fname = \"sharvari\"\n",
    "lname = \"wairkar\"\n",
    "print(fname + lname)"
   ]
  },
  {
   "cell_type": "code",
   "execution_count": 20,
   "id": "ba2cfd3a",
   "metadata": {},
   "outputs": [
    {
     "name": "stdout",
     "output_type": "stream",
     "text": [
      "sharvari wairkar\n"
     ]
    }
   ],
   "source": [
    "print(fname+\" \"+lname)"
   ]
  },
  {
   "cell_type": "code",
   "execution_count": 21,
   "id": "0aa94dc8",
   "metadata": {},
   "outputs": [
    {
     "ename": "TypeError",
     "evalue": "unsupported operand type(s) for +: 'int' and 'str'",
     "output_type": "error",
     "traceback": [
      "\u001b[1;31m---------------------------------------------------------------------------\u001b[0m",
      "\u001b[1;31mTypeError\u001b[0m                                 Traceback (most recent call last)",
      "\u001b[1;32m~\\AppData\\Local\\Temp/ipykernel_10612/3191352971.py\u001b[0m in \u001b[0;36m<module>\u001b[1;34m\u001b[0m\n\u001b[1;32m----> 1\u001b[1;33m \u001b[0mprint\u001b[0m\u001b[1;33m(\u001b[0m\u001b[0ma\u001b[0m\u001b[1;33m+\u001b[0m\u001b[0mfname\u001b[0m\u001b[1;33m)\u001b[0m\u001b[1;33m\u001b[0m\u001b[1;33m\u001b[0m\u001b[0m\n\u001b[0m",
      "\u001b[1;31mTypeError\u001b[0m: unsupported operand type(s) for +: 'int' and 'str'"
     ]
    }
   ],
   "source": [
    "print(a+fname)"
   ]
  },
  {
   "cell_type": "code",
   "execution_count": 22,
   "id": "d4d161f4",
   "metadata": {},
   "outputs": [
    {
     "name": "stdout",
     "output_type": "stream",
     "text": [
      "hello21\n"
     ]
    }
   ],
   "source": [
    "a = \"hello\"\n",
    "b = \"21\"\n",
    "print(a+b)"
   ]
  },
  {
   "cell_type": "code",
   "execution_count": 26,
   "id": "ff8d2b5d",
   "metadata": {},
   "outputs": [
    {
     "name": "stdout",
     "output_type": "stream",
     "text": [
      "sharvari sandesh wairkar\n"
     ]
    }
   ],
   "source": [
    "fname = \"sharvari\"\n",
    "mname = \"sandesh\"\n",
    "lname = \"wairkar\"\n",
    "print(fname+\" \"+mname+\" \"+lname)"
   ]
  },
  {
   "cell_type": "code",
   "execution_count": 27,
   "id": "71c245a8",
   "metadata": {},
   "outputs": [
    {
     "name": "stdout",
     "output_type": "stream",
     "text": [
      "sharvariwairkar21@gmail.com\n"
     ]
    }
   ],
   "source": [
    "a = \"sharvariwairkar\"\n",
    "b = \"21\"\n",
    "c = \"@gmail.com\"\n",
    "print(a+b+c)"
   ]
  },
  {
   "cell_type": "code",
   "execution_count": 1,
   "id": "6037cf27",
   "metadata": {},
   "outputs": [
    {
     "name": "stdout",
     "output_type": "stream",
     "text": [
      "\n",
      "Here is a list of the Python keywords.  Enter any keyword to get more help.\n",
      "\n",
      "False               break               for                 not\n",
      "None                class               from                or\n",
      "True                continue            global              pass\n",
      "__peg_parser__      def                 if                  raise\n",
      "and                 del                 import              return\n",
      "as                  elif                in                  try\n",
      "assert              else                is                  while\n",
      "async               except              lambda              with\n",
      "await               finally             nonlocal            yield\n",
      "\n"
     ]
    }
   ],
   "source": [
    "help('keywords')"
   ]
  },
  {
   "cell_type": "code",
   "execution_count": 2,
   "id": "5b52f3fd",
   "metadata": {},
   "outputs": [
    {
     "ename": "SyntaxError",
     "evalue": "invalid syntax (Temp/ipykernel_7276/479645802.py, line 1)",
     "output_type": "error",
     "traceback": [
      "\u001b[1;36m  File \u001b[1;32m\"C:\\Users\\Lenovo\\AppData\\Local\\Temp/ipykernel_7276/479645802.py\"\u001b[1;36m, line \u001b[1;32m1\u001b[0m\n\u001b[1;33m    class = 100\u001b[0m\n\u001b[1;37m          ^\u001b[0m\n\u001b[1;31mSyntaxError\u001b[0m\u001b[1;31m:\u001b[0m invalid syntax\n"
     ]
    }
   ],
   "source": [
    "class = 100"
   ]
  },
  {
   "cell_type": "code",
   "execution_count": 3,
   "id": "579087fd",
   "metadata": {},
   "outputs": [],
   "source": [
    "Class = 10"
   ]
  },
  {
   "cell_type": "code",
   "execution_count": 4,
   "id": "1c3b765f",
   "metadata": {},
   "outputs": [],
   "source": [
    "#print('sharvari')"
   ]
  },
  {
   "cell_type": "code",
   "execution_count": 5,
   "id": "e1781ff7",
   "metadata": {},
   "outputs": [
    {
     "data": {
      "text/plain": [
       "int"
      ]
     },
     "execution_count": 5,
     "metadata": {},
     "output_type": "execute_result"
    }
   ],
   "source": [
    "a=(21)\n",
    "type(a)"
   ]
  },
  {
   "cell_type": "code",
   "execution_count": 6,
   "id": "874b91e0",
   "metadata": {},
   "outputs": [
    {
     "data": {
      "text/plain": [
       "float"
      ]
     },
     "execution_count": 6,
     "metadata": {},
     "output_type": "execute_result"
    }
   ],
   "source": [
    "v=(52.3)\n",
    "type(v)"
   ]
  },
  {
   "cell_type": "code",
   "execution_count": 7,
   "id": "d429c6c6",
   "metadata": {},
   "outputs": [
    {
     "data": {
      "text/plain": [
       "complex"
      ]
     },
     "execution_count": 7,
     "metadata": {},
     "output_type": "execute_result"
    }
   ],
   "source": [
    "c=4+9j\n",
    "type(c)"
   ]
  },
  {
   "cell_type": "code",
   "execution_count": 8,
   "id": "9c86e4ae",
   "metadata": {},
   "outputs": [
    {
     "data": {
      "text/plain": [
       "str"
      ]
     },
     "execution_count": 8,
     "metadata": {},
     "output_type": "execute_result"
    }
   ],
   "source": [
    "k=\"sharvari\"\n",
    "type(k)"
   ]
  },
  {
   "cell_type": "code",
   "execution_count": 9,
   "id": "f621d076",
   "metadata": {},
   "outputs": [
    {
     "data": {
      "text/plain": [
       "list"
      ]
     },
     "execution_count": 9,
     "metadata": {},
     "output_type": "execute_result"
    }
   ],
   "source": [
    "s = [10,20,30,40]\n",
    "type(s)"
   ]
  },
  {
   "cell_type": "code",
   "execution_count": 10,
   "id": "c8bdaafb",
   "metadata": {},
   "outputs": [
    {
     "data": {
      "text/plain": [
       "tuple"
      ]
     },
     "execution_count": 10,
     "metadata": {},
     "output_type": "execute_result"
    }
   ],
   "source": [
    "t = (10,20,30)\n",
    "type(t)"
   ]
  },
  {
   "cell_type": "code",
   "execution_count": 11,
   "id": "6c4a12b0",
   "metadata": {},
   "outputs": [
    {
     "data": {
      "text/plain": [
       "set"
      ]
     },
     "execution_count": 11,
     "metadata": {},
     "output_type": "execute_result"
    }
   ],
   "source": [
    "s={10,20,30}\n",
    "type(s)"
   ]
  },
  {
   "cell_type": "code",
   "execution_count": 12,
   "id": "0dc7b29c",
   "metadata": {},
   "outputs": [
    {
     "data": {
      "text/plain": [
       "dict"
      ]
     },
     "execution_count": 12,
     "metadata": {},
     "output_type": "execute_result"
    }
   ],
   "source": [
    "m={10:20,30:40}\n",
    "type(m)"
   ]
  },
  {
   "cell_type": "code",
   "execution_count": 13,
   "id": "5e52b680",
   "metadata": {},
   "outputs": [
    {
     "data": {
      "text/plain": [
       "dict"
      ]
     },
     "execution_count": 13,
     "metadata": {},
     "output_type": "execute_result"
    }
   ],
   "source": [
    "p={'Name':'sharvari'}\n",
    "type(p)"
   ]
  },
  {
   "cell_type": "code",
   "execution_count": 14,
   "id": "be689438",
   "metadata": {},
   "outputs": [
    {
     "data": {
      "text/plain": [
       "bool"
      ]
     },
     "execution_count": 14,
     "metadata": {},
     "output_type": "execute_result"
    }
   ],
   "source": [
    "r=True\n",
    "type(r)"
   ]
  },
  {
   "cell_type": "code",
   "execution_count": 16,
   "id": "f1ea8c32",
   "metadata": {},
   "outputs": [
    {
     "data": {
      "text/plain": [
       "range"
      ]
     },
     "execution_count": 16,
     "metadata": {},
     "output_type": "execute_result"
    }
   ],
   "source": [
    "n=range(1,11)\n",
    "type(n)"
   ]
  },
  {
   "cell_type": "code",
   "execution_count": 17,
   "id": "2974111d",
   "metadata": {},
   "outputs": [
    {
     "name": "stdout",
     "output_type": "stream",
     "text": [
      "sharvari\n",
      "sharvari\n"
     ]
    }
   ],
   "source": [
    "g=input()\n",
    "print(g)"
   ]
  },
  {
   "cell_type": "code",
   "execution_count": null,
   "id": "38590f09",
   "metadata": {},
   "outputs": [],
   "source": [
    "A=input(\"Name : \")\n",
    "print(A)"
   ]
  },
  {
   "cell_type": "code",
   "execution_count": 1,
   "id": "ebc91cd0",
   "metadata": {},
   "outputs": [
    {
     "name": "stdout",
     "output_type": "stream",
     "text": [
      "Enter length of a rectangle : 10\n",
      "Enter breadth of a rectangle : 12\n",
      "Area of a rectangle is = 120\n"
     ]
    }
   ],
   "source": [
    "length = int(input(\"Enter length of a rectangle : \"))\n",
    "breadth = int(input(\"Enter breadth of a rectangle : \"))\n",
    "area = length * breadth\n",
    "print(\"Area of a rectangle is =\", area)"
   ]
  },
  {
   "cell_type": "code",
   "execution_count": 3,
   "id": "e41d965f",
   "metadata": {},
   "outputs": [
    {
     "name": "stdout",
     "output_type": "stream",
     "text": [
      "sharvari 23\n"
     ]
    }
   ],
   "source": [
    "a = \"sharvari \"\n",
    "b = \"23\"\n",
    "print(a+b)"
   ]
  },
  {
   "cell_type": "code",
   "execution_count": 6,
   "id": "e27d14ac",
   "metadata": {},
   "outputs": [
    {
     "name": "stdout",
     "output_type": "stream",
     "text": [
      "Enter length1 of square : 20\n",
      "Enter lenght2 of square : 20\n",
      "Area of a Square is = 400\n"
     ]
    }
   ],
   "source": [
    "length1 = int(input(\"Enter length1 of square : \"))\n",
    "lenght2 = int(input(\"Enter lenght2 of square : \"))\n",
    "area = length1 * lenght2\n",
    "print(\"Area of a Square is =\", area)"
   ]
  },
  {
   "cell_type": "code",
   "execution_count": 7,
   "id": "28f42cd0",
   "metadata": {},
   "outputs": [
    {
     "name": "stdout",
     "output_type": "stream",
     "text": [
      "Enter radius1 of a circle : 1.2\n",
      "Enter radius2 of a circle : 3.6\n",
      "Area of circle is = 13.5648\n"
     ]
    }
   ],
   "source": [
    "pi = 3.14\n",
    "radius1 = float(input(\"Enter radius1 of a circle : \"))\n",
    "radius2 = float(input(\"Enter radius2 of a circle : \"))\n",
    "area = pi * radius1 * radius2\n",
    "print(\"Area of circle is =\", area)"
   ]
  },
  {
   "cell_type": "code",
   "execution_count": 9,
   "id": "c15f86b6",
   "metadata": {},
   "outputs": [
    {
     "name": "stdout",
     "output_type": "stream",
     "text": [
      "Enter lenght of rectangle : 6\n",
      "Enter breadth of rectangle : 9\n",
      "Perimeter of a rectangle is = 30\n"
     ]
    }
   ],
   "source": [
    "#perimeter of rectangle\n",
    "length = int(input(\"Enter lenght of rectangle : \"))\n",
    "breadth = int(input(\"Enter breadth of rectangle : \"))\n",
    "perimeter = (2*length)+(2*breadth)\n",
    "print(\"Perimeter of a rectangle is =\", perimeter)"
   ]
  },
  {
   "cell_type": "code",
   "execution_count": 10,
   "id": "ddaabb43",
   "metadata": {},
   "outputs": [
    {
     "name": "stdout",
     "output_type": "stream",
     "text": [
      "Enter side of square : 8\n",
      "Perimeter of a Square is = 30\n"
     ]
    }
   ],
   "source": [
    "side = int(input(\"Enter side of square : \"))\n",
    "Perimeter = 4 * side\n",
    "print(\"Perimeter of a Square is =\", perimeter)"
   ]
  },
  {
   "cell_type": "code",
   "execution_count": 1,
   "id": "c50fe821",
   "metadata": {},
   "outputs": [
    {
     "name": "stdout",
     "output_type": "stream",
     "text": [
      "Enter radius of a circle : 5\n",
      "circumfaranvce of circle is = 31.400000000000002\n"
     ]
    }
   ],
   "source": [
    "pi = 3.14\n",
    "radius = int(input(\"Enter radius of a circle : \"))\n",
    "circumfarance = 2 * pi * radius\n",
    "print(\"circumfaranvce of circle is =\", circumfarance)"
   ]
  },
  {
   "cell_type": "code",
   "execution_count": 9,
   "id": "fad48170",
   "metadata": {},
   "outputs": [
    {
     "name": "stdout",
     "output_type": "stream",
     "text": [
      "Enter name of a student : Sharvari Wairkar\n",
      "Subject Name\n",
      "Marks obtained in English are : 55\n",
      "Marks obtained in Bio are : 65\n",
      "Marks obtained in Chem are : 70\n",
      "Marks obtained in phy are : 80\n",
      "Marks obtained in Math are : 75\n",
      "Sharvari Wairkar has got 69.0 Percentage\n"
     ]
    }
   ],
   "source": [
    "Name = input(\"Enter name of a student : \")\n",
    "print(\"Subject Name\")\n",
    "English = int(input(\"Marks obtained in English are : \"))\n",
    "Bio = int(input(\"Marks obtained in Bio are : \"))\n",
    "Chem = int(input(\"Marks obtained in Chem are : \"))\n",
    "Phy = int(input(\"Marks obtained in phy are : \"))\n",
    "Math = int(input(\"Marks obtained in Math are : \"))\n",
    "Gained_Marks = English + Bio + Chem + Phy + Math\n",
    "Total_Marks = 500\n",
    "Percentage = (Gained_Marks/Total_Marks)*100\n",
    "print(Name, \"has got\" ,Percentage, \"Percentage\")"
   ]
  },
  {
   "cell_type": "code",
   "execution_count": 12,
   "id": "5e7ec454",
   "metadata": {},
   "outputs": [
    {
     "name": "stdout",
     "output_type": "stream",
     "text": [
      "125\n"
     ]
    }
   ],
   "source": [
    "num = 5\n",
    "print(num ** 3)"
   ]
  },
  {
   "cell_type": "code",
   "execution_count": 2,
   "id": "188b9576",
   "metadata": {},
   "outputs": [
    {
     "name": "stdout",
     "output_type": "stream",
     "text": [
      "welcome to develearn\n"
     ]
    },
    {
     "data": {
      "text/plain": [
       "20"
      ]
     },
     "execution_count": 2,
     "metadata": {},
     "output_type": "execute_result"
    }
   ],
   "source": [
    "Str='welcome to develearn'\n",
    "print(Str)\n",
    "len(Str) "
   ]
  },
  {
   "cell_type": "code",
   "execution_count": 3,
   "id": "13f1d962",
   "metadata": {},
   "outputs": [
    {
     "data": {
      "text/plain": [
       "'elc'"
      ]
     },
     "execution_count": 3,
     "metadata": {},
     "output_type": "execute_result"
    }
   ],
   "source": [
    "Str[1:4]"
   ]
  },
  {
   "cell_type": "code",
   "execution_count": 4,
   "id": "8d0bd7e9",
   "metadata": {},
   "outputs": [
    {
     "data": {
      "text/plain": [
       "'elcome'"
      ]
     },
     "execution_count": 4,
     "metadata": {},
     "output_type": "execute_result"
    }
   ],
   "source": [
    "Str[1:7]"
   ]
  },
  {
   "cell_type": "code",
   "execution_count": 5,
   "id": "63c7f01f",
   "metadata": {},
   "outputs": [
    {
     "data": {
      "text/plain": [
       "'come to develearn'"
      ]
     },
     "execution_count": 5,
     "metadata": {},
     "output_type": "execute_result"
    }
   ],
   "source": [
    "Str[3: ]\n"
   ]
  },
  {
   "cell_type": "code",
   "execution_count": 6,
   "id": "ef5bb9df",
   "metadata": {},
   "outputs": [
    {
     "data": {
      "text/plain": [
       "'welco'"
      ]
     },
     "execution_count": 6,
     "metadata": {},
     "output_type": "execute_result"
    }
   ],
   "source": [
    "Str[:5] \n"
   ]
  },
  {
   "cell_type": "code",
   "execution_count": 7,
   "id": "db16e3e3",
   "metadata": {},
   "outputs": [
    {
     "data": {
      "text/plain": [
       "'ome to devele'"
      ]
     },
     "execution_count": 7,
     "metadata": {},
     "output_type": "execute_result"
    }
   ],
   "source": [
    "Str[4:17] "
   ]
  },
  {
   "cell_type": "code",
   "execution_count": 8,
   "id": "15c72b82",
   "metadata": {},
   "outputs": [
    {
     "data": {
      "text/plain": [
       "'rae'"
      ]
     },
     "execution_count": 8,
     "metadata": {},
     "output_type": "execute_result"
    }
   ],
   "source": [
    "Str[-2:-5:-1] "
   ]
  },
  {
   "cell_type": "code",
   "execution_count": 10,
   "id": "1f18c69f",
   "metadata": {},
   "outputs": [
    {
     "data": {
      "text/plain": [
       "'ecm'"
      ]
     },
     "execution_count": 10,
     "metadata": {},
     "output_type": "execute_result"
    }
   ],
   "source": [
    "Str[1:7:2] "
   ]
  },
  {
   "cell_type": "code",
   "execution_count": 11,
   "id": "d3281650",
   "metadata": {},
   "outputs": [
    {
     "data": {
      "text/plain": [
       "'learn'"
      ]
     },
     "execution_count": 11,
     "metadata": {},
     "output_type": "execute_result"
    }
   ],
   "source": [
    "Str[-5:]"
   ]
  },
  {
   "cell_type": "code",
   "execution_count": 12,
   "id": "581ff6c7",
   "metadata": {},
   "outputs": [
    {
     "data": {
      "text/plain": [
       "'welc'"
      ]
     },
     "execution_count": 12,
     "metadata": {},
     "output_type": "execute_result"
    }
   ],
   "source": [
    "Str[:4]"
   ]
  },
  {
   "cell_type": "code",
   "execution_count": 13,
   "id": "7951036a",
   "metadata": {},
   "outputs": [
    {
     "data": {
      "text/plain": [
       "'re'"
      ]
     },
     "execution_count": 13,
     "metadata": {},
     "output_type": "execute_result"
    }
   ],
   "source": [
    "Str[-2:-5:-2] "
   ]
  },
  {
   "cell_type": "code",
   "execution_count": 14,
   "id": "38d14f84",
   "metadata": {},
   "outputs": [
    {
     "data": {
      "text/plain": [
       "'deve'"
      ]
     },
     "execution_count": 14,
     "metadata": {},
     "output_type": "execute_result"
    }
   ],
   "source": [
    "Str[11:15] \n"
   ]
  },
  {
   "cell_type": "code",
   "execution_count": 15,
   "id": "e61ee7a9",
   "metadata": {},
   "outputs": [
    {
     "data": {
      "text/plain": [
       "'welcome to develearn'"
      ]
     },
     "execution_count": 15,
     "metadata": {},
     "output_type": "execute_result"
    }
   ],
   "source": [
    "Str[:]"
   ]
  },
  {
   "cell_type": "code",
   "execution_count": 16,
   "id": "1a6778e8",
   "metadata": {},
   "outputs": [
    {
     "data": {
      "text/plain": [
       "'wloet eeer'"
      ]
     },
     "execution_count": 16,
     "metadata": {},
     "output_type": "execute_result"
    }
   ],
   "source": [
    "Str[: :2] "
   ]
  },
  {
   "cell_type": "code",
   "execution_count": 17,
   "id": "d3c23452",
   "metadata": {},
   "outputs": [
    {
     "data": {
      "text/plain": [
       "''"
      ]
     },
     "execution_count": 17,
     "metadata": {},
     "output_type": "execute_result"
    }
   ],
   "source": [
    "Str[-5:-11] "
   ]
  },
  {
   "cell_type": "code",
   "execution_count": 18,
   "id": "3f01a911",
   "metadata": {},
   "outputs": [
    {
     "data": {
      "text/plain": [
       "' emocl'"
      ]
     },
     "execution_count": 18,
     "metadata": {},
     "output_type": "execute_result"
    }
   ],
   "source": [
    "Str[7:1:-1] "
   ]
  },
  {
   "cell_type": "code",
   "execution_count": 19,
   "id": "8f949568",
   "metadata": {},
   "outputs": [
    {
     "data": {
      "text/plain": [
       "'come to devele'"
      ]
     },
     "execution_count": 19,
     "metadata": {},
     "output_type": "execute_result"
    }
   ],
   "source": [
    "Str[3:-3] "
   ]
  },
  {
   "cell_type": "code",
   "execution_count": 20,
   "id": "7b2e24a2",
   "metadata": {},
   "outputs": [
    {
     "data": {
      "text/plain": [
       "''"
      ]
     },
     "execution_count": 20,
     "metadata": {},
     "output_type": "execute_result"
    }
   ],
   "source": [
    "Str[30:40] "
   ]
  },
  {
   "cell_type": "code",
   "execution_count": 21,
   "id": "95504702",
   "metadata": {},
   "outputs": [
    {
     "data": {
      "text/plain": [
       "'ar'"
      ]
     },
     "execution_count": 21,
     "metadata": {},
     "output_type": "execute_result"
    }
   ],
   "source": [
    "Str[17:-1] "
   ]
  },
  {
   "cell_type": "code",
   "execution_count": 22,
   "id": "12c92ece",
   "metadata": {},
   "outputs": [
    {
     "data": {
      "text/plain": [
       "' ot emoclew'"
      ]
     },
     "execution_count": 22,
     "metadata": {},
     "output_type": "execute_result"
    }
   ],
   "source": [
    "Str[10: :-1] "
   ]
  },
  {
   "cell_type": "code",
   "execution_count": 4,
   "id": "05372056",
   "metadata": {},
   "outputs": [
    {
     "name": "stdout",
     "output_type": "stream",
     "text": [
      "sharvari wairkar\n",
      "SHARVARI WAIRKAR\n"
     ]
    }
   ],
   "source": [
    "#STRING METHODS.\n",
    "#1- lowercase\n",
    "\n",
    "a = \"sharvari wairkar\"\n",
    "b = a.upper()\n",
    "print(a)\n",
    "print(b) "
   ]
  },
  {
   "cell_type": "code",
   "execution_count": 6,
   "id": "5546fb4e",
   "metadata": {},
   "outputs": [
    {
     "name": "stdout",
     "output_type": "stream",
     "text": [
      "SHARVARI WAIRKAR\n"
     ]
    }
   ],
   "source": [
    "c = a.swapcase()\n",
    "print(c) "
   ]
  },
  {
   "cell_type": "code",
   "execution_count": 12,
   "id": "7db84621",
   "metadata": {},
   "outputs": [
    {
     "name": "stdout",
     "output_type": "stream",
     "text": [
      "8\n"
     ]
    }
   ],
   "source": [
    "d = a.index('i')\n",
    "print(d) "
   ]
  },
  {
   "cell_type": "code",
   "execution_count": 16,
   "id": "849dd8b4",
   "metadata": {},
   "outputs": [
    {
     "name": "stdout",
     "output_type": "stream",
     "text": [
      "['sharvari', 'wairkar']\n"
     ]
    }
   ],
   "source": [
    "e = a.split()\n",
    "print(e)"
   ]
  },
  {
   "cell_type": "code",
   "execution_count": 17,
   "id": "22260728",
   "metadata": {},
   "outputs": [
    {
     "name": "stdout",
     "output_type": "stream",
     "text": [
      " Sharvari Wairkar    \n"
     ]
    }
   ],
   "source": [
    "f = a.title()\n",
    "print(f) "
   ]
  },
  {
   "cell_type": "code",
   "execution_count": 21,
   "id": "509c3f87",
   "metadata": {},
   "outputs": [
    {
     "name": "stdout",
     "output_type": "stream",
     "text": [
      " sharvari wairkar    \n"
     ]
    }
   ],
   "source": [
    "g = a.capitalize()\n",
    "print(g)"
   ]
  },
  {
   "cell_type": "code",
   "execution_count": 25,
   "id": "4104156e",
   "metadata": {},
   "outputs": [
    {
     "name": "stdout",
     "output_type": "stream",
     "text": [
      "1\n"
     ]
    }
   ],
   "source": [
    "h = a.count(a)\n",
    "print(h)"
   ]
  },
  {
   "cell_type": "code",
   "execution_count": null,
   "id": "bc4cc03e",
   "metadata": {},
   "outputs": [],
   "source": []
  }
 ],
 "metadata": {
  "kernelspec": {
   "display_name": "Python 3 (ipykernel)",
   "language": "python",
   "name": "python3"
  },
  "language_info": {
   "codemirror_mode": {
    "name": "ipython",
    "version": 3
   },
   "file_extension": ".py",
   "mimetype": "text/x-python",
   "name": "python",
   "nbconvert_exporter": "python",
   "pygments_lexer": "ipython3",
   "version": "3.9.7"
  }
 },
 "nbformat": 4,
 "nbformat_minor": 5
}
