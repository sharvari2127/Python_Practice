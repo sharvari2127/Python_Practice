{
 "cells": [
  {
   "cell_type": "code",
   "execution_count": null,
   "id": "0ae721af",
   "metadata": {},
   "outputs": [],
   "source": [
    "#1. Make new list from two existing list which contain duplicate values,  \n",
    "#output should be unique."
   ]
  },
  {
   "cell_type": "code",
   "execution_count": 10,
   "id": "16cfc951",
   "metadata": {},
   "outputs": [
    {
     "name": "stdout",
     "output_type": "stream",
     "text": [
      "[100, 200, 600, 200, 900, 400, 100, 600]\n",
      "[500, 700, 100, 700, 900, 100, 500, 400]\n"
     ]
    }
   ],
   "source": [
    "L1 = [100,200,600,200,900,400,100,600]\n",
    "L2 = [500,700,100,700,900,100,500,400] \n",
    "print(L1)\n",
    "print(L2) "
   ]
  },
  {
   "cell_type": "code",
   "execution_count": 11,
   "id": "1b299dfc",
   "metadata": {},
   "outputs": [
    {
     "name": "stdout",
     "output_type": "stream",
     "text": [
      "{900, 100, 200, 400, 600}\n",
      "{100, 900, 400, 500, 700}\n"
     ]
    }
   ],
   "source": [
    "S1 = set((L1))\n",
    "S2 = set((L2)) \n",
    "print(S1) \n",
    "print(S2) "
   ]
  },
  {
   "cell_type": "code",
   "execution_count": 6,
   "id": "523fb9d4",
   "metadata": {},
   "outputs": [
    {
     "data": {
      "text/plain": [
       "set"
      ]
     },
     "execution_count": 6,
     "metadata": {},
     "output_type": "execute_result"
    }
   ],
   "source": [
    "type(S1)\n"
   ]
  },
  {
   "cell_type": "code",
   "execution_count": 12,
   "id": "1de2544d",
   "metadata": {},
   "outputs": [
    {
     "name": "stdout",
     "output_type": "stream",
     "text": [
      "[900, 100, 200, 400, 600]\n",
      "[100, 900, 400, 500, 700]\n"
     ]
    }
   ],
   "source": [
    "list_1 = list((S1))\n",
    "list_2 = list((S2)) \n",
    "print(list_1)\n",
    "print(list_2) "
   ]
  },
  {
   "cell_type": "code",
   "execution_count": 13,
   "id": "9e331667",
   "metadata": {},
   "outputs": [
    {
     "name": "stdout",
     "output_type": "stream",
     "text": [
      "[900, 100, 200, 400, 600, 100, 900, 400, 500, 700]\n"
     ]
    }
   ],
   "source": [
    "list_3 = list_1 + list_2 \n",
    "print(list_3) "
   ]
  },
  {
   "cell_type": "code",
   "execution_count": null,
   "id": "67a10aae",
   "metadata": {},
   "outputs": [],
   "source": [
    "#Find unique tuple from existing tuple which contains lot of duplicate values."
   ]
  },
  {
   "cell_type": "code",
   "execution_count": 14,
   "id": "f7f577ea",
   "metadata": {},
   "outputs": [
    {
     "name": "stdout",
     "output_type": "stream",
     "text": [
      "(900, 100, 200, 400, 600, 100, 900, 400, 500, 700)\n"
     ]
    },
    {
     "data": {
      "text/plain": [
       "tuple"
      ]
     },
     "execution_count": 14,
     "metadata": {},
     "output_type": "execute_result"
    }
   ],
   "source": [
    "tup1 = (900, 100, 200, 400, 600, 100, 900, 400, 500, 700) \n",
    "print(tup1)\n",
    "type(tup1) "
   ]
  },
  {
   "cell_type": "code",
   "execution_count": 27,
   "id": "ec13da6c",
   "metadata": {},
   "outputs": [
    {
     "name": "stdout",
     "output_type": "stream",
     "text": [
      "{100, 900, 200, 400, 500, 600, 700}\n"
     ]
    },
    {
     "data": {
      "text/plain": [
       "set"
      ]
     },
     "execution_count": 27,
     "metadata": {},
     "output_type": "execute_result"
    }
   ],
   "source": [
    "set10 = set((tup1))\n",
    "print(set10)\n",
    "type(set10)"
   ]
  },
  {
   "cell_type": "code",
   "execution_count": 29,
   "id": "0895aebf",
   "metadata": {},
   "outputs": [
    {
     "name": "stdout",
     "output_type": "stream",
     "text": [
      "(100, 900, 200, 400, 500, 600, 700)\n"
     ]
    },
    {
     "data": {
      "text/plain": [
       "tuple"
      ]
     },
     "execution_count": 29,
     "metadata": {},
     "output_type": "execute_result"
    }
   ],
   "source": [
    "tup2 = tuple((set10))\n",
    "print(tup2) \n",
    "type(tup2) "
   ]
  },
  {
   "cell_type": "code",
   "execution_count": null,
   "id": "cd39b723",
   "metadata": {},
   "outputs": [],
   "source": [
    "#3. A = [1,2,3,4,5]\n",
    "#   B = [1,6,7,8]\n",
    "#   C = [8,9,10]\n",
    "#Expected output : [1,2,3,4,5,6,7,8,9,10] & [1,8]"
   ]
  },
  {
   "cell_type": "code",
   "execution_count": 16,
   "id": "e1ea4086",
   "metadata": {},
   "outputs": [
    {
     "name": "stdout",
     "output_type": "stream",
     "text": [
      "{1, 2, 3, 4, 5}\n",
      "{8, 1, 6, 7}\n",
      "{8, 9, 10}\n"
     ]
    }
   ],
   "source": [
    "A = [1,2,3,4,5]\n",
    "B = [1,6,7,8]\n",
    "C = [8,9,10]\n",
    "\n",
    "SA = set((A))\n",
    "SB = set((B))\n",
    "SC = set((C))\n",
    "\n",
    "print(SA)\n",
    "print(SB) \n",
    "print(SC) "
   ]
  },
  {
   "cell_type": "code",
   "execution_count": 18,
   "id": "a38a5be6",
   "metadata": {},
   "outputs": [
    {
     "name": "stdout",
     "output_type": "stream",
     "text": [
      "{1, 2, 3, 4, 5, 6, 7, 8, 9, 10}\n"
     ]
    }
   ],
   "source": [
    "SD = SA | SB | SC \n",
    "print(SD) "
   ]
  },
  {
   "cell_type": "code",
   "execution_count": 22,
   "id": "c48ef9c6",
   "metadata": {},
   "outputs": [
    {
     "name": "stdout",
     "output_type": "stream",
     "text": [
      "{1}\n"
     ]
    }
   ],
   "source": [
    "SE = SA & SB \n",
    "print(SE) "
   ]
  },
  {
   "cell_type": "code",
   "execution_count": 20,
   "id": "d487ee8d",
   "metadata": {},
   "outputs": [
    {
     "name": "stdout",
     "output_type": "stream",
     "text": [
      "{8}\n"
     ]
    }
   ],
   "source": [
    "SF = SB & SC\n",
    "print(SF) "
   ]
  },
  {
   "cell_type": "code",
   "execution_count": 24,
   "id": "0987d76e",
   "metadata": {},
   "outputs": [
    {
     "name": "stdout",
     "output_type": "stream",
     "text": [
      "{8, 1}\n"
     ]
    }
   ],
   "source": [
    "SG = SE | SF \n",
    "print(SG) "
   ]
  },
  {
   "cell_type": "code",
   "execution_count": 25,
   "id": "894d3683",
   "metadata": {},
   "outputs": [
    {
     "name": "stdout",
     "output_type": "stream",
     "text": [
      "(8, 1)\n"
     ]
    }
   ],
   "source": [
    "TG = tuple((SG))\n",
    "print(TG)"
   ]
  },
  {
   "cell_type": "code",
   "execution_count": 26,
   "id": "1ef10829",
   "metadata": {},
   "outputs": [
    {
     "name": "stdout",
     "output_type": "stream",
     "text": [
      "(1, 2, 3, 4, 5, 6, 7, 8, 9, 10)\n"
     ]
    }
   ],
   "source": [
    "TD = tuple((SD))\n",
    "print(TD) "
   ]
  },
  {
   "cell_type": "code",
   "execution_count": null,
   "id": "5ed96773",
   "metadata": {},
   "outputs": [],
   "source": []
  }
 ],
 "metadata": {
  "kernelspec": {
   "display_name": "Python 3 (ipykernel)",
   "language": "python",
   "name": "python3"
  },
  "language_info": {
   "codemirror_mode": {
    "name": "ipython",
    "version": 3
   },
   "file_extension": ".py",
   "mimetype": "text/x-python",
   "name": "python",
   "nbconvert_exporter": "python",
   "pygments_lexer": "ipython3",
   "version": "3.9.7"
  }
 },
 "nbformat": 4,
 "nbformat_minor": 5
}
