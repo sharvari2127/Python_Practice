{
 "cells": [
  {
   "cell_type": "code",
   "execution_count": 1,
   "id": "b390b747",
   "metadata": {},
   "outputs": [
    {
     "name": "stdout",
     "output_type": "stream",
     "text": [
      "['Sharvari', 23, 'Data Science', 'Mumbai']\n"
     ]
    }
   ],
   "source": [
    "list_1 = [\"Sharvari\", 23 ,\"Data Science\",\"Mumbai\"]\n",
    "print(list_1)"
   ]
  },
  {
   "cell_type": "code",
   "execution_count": 3,
   "id": "5782ab35",
   "metadata": {},
   "outputs": [
    {
     "name": "stdout",
     "output_type": "stream",
     "text": [
      "Data Science\n"
     ]
    }
   ],
   "source": [
    "list_1 = [\"Sharvari\", 23 ,\"Data Science\",\"Mumbai\"]\n",
    "print(list_1[2])"
   ]
  },
  {
   "cell_type": "code",
   "execution_count": 4,
   "id": "0ca88a95",
   "metadata": {},
   "outputs": [
    {
     "data": {
      "text/plain": [
       "3"
      ]
     },
     "execution_count": 4,
     "metadata": {},
     "output_type": "execute_result"
    }
   ],
   "source": [
    "list_1 = [\"Sharvari\", 23 ,\"Data Science\",\"Mumbai\"]\n",
    "list_1.index(\"Mumbai\")"
   ]
  },
  {
   "cell_type": "code",
   "execution_count": 5,
   "id": "54684eec",
   "metadata": {
    "scrolled": true
   },
   "outputs": [
    {
     "name": "stdout",
     "output_type": "stream",
     "text": [
      "Data Science\n",
      "Data Science\n"
     ]
    }
   ],
   "source": [
    "list_1 = [\"Sharvari\", 23 ,\"Data Science\",\"Mumbai\"]\n",
    "print(list_1[2])\n",
    "print(list_1[-2])"
   ]
  },
  {
   "cell_type": "code",
   "execution_count": 6,
   "id": "22c4a801",
   "metadata": {},
   "outputs": [
    {
     "name": "stdout",
     "output_type": "stream",
     "text": [
      "['Wairkar', 23, 'Data Science', 'Mumbai']\n"
     ]
    }
   ],
   "source": [
    "list_1 = [\"Sharvari\", 23 ,\"Data Science\",\"Mumbai\"]\n",
    "list_1[0] = \"Wairkar\"\n",
    "print(list_1)"
   ]
  },
  {
   "cell_type": "code",
   "execution_count": 7,
   "id": "1983330b",
   "metadata": {},
   "outputs": [
    {
     "name": "stdout",
     "output_type": "stream",
     "text": [
      "['wairkar', 24, 'Data Analytics', 'Mumbai']\n"
     ]
    }
   ],
   "source": [
    "list_1 = [\"Sharvari\", 23 ,\"Data Science\",\"Mumbai\"]\n",
    "list_1[0:3] = [\"wairkar\", 24 ,\"Data Analytics\"]\n",
    "print(list_1)"
   ]
  },
  {
   "cell_type": "code",
   "execution_count": 10,
   "id": "fba91618",
   "metadata": {},
   "outputs": [
    {
     "name": "stdout",
     "output_type": "stream",
     "text": [
      "['Wairkar', 'Data Science', 'Mumbai']\n"
     ]
    }
   ],
   "source": [
    "list_1 = [\"Sharvari\", 23 ,\"Data Science\",\"Mumbai\"]\n",
    "list_1[0:2] = [\"Wairkar\"]\n",
    "print(list_1)"
   ]
  },
  {
   "cell_type": "code",
   "execution_count": 11,
   "id": "59922fdc",
   "metadata": {},
   "outputs": [
    {
     "name": "stdout",
     "output_type": "stream",
     "text": [
      "[['Sharu', 'Wairkar'], 23, 'Data Science', 'Mumbai']\n"
     ]
    }
   ],
   "source": [
    "list_1 = [\"Sharvari\", 23 ,\"Data Science\",\"Mumbai\"]\n",
    "list_1[0] = [\"Sharu\",\"Wairkar\"] \n",
    "print(list_1) "
   ]
  },
  {
   "cell_type": "code",
   "execution_count": 12,
   "id": "b3b7d617",
   "metadata": {},
   "outputs": [
    {
     "name": "stdout",
     "output_type": "stream",
     "text": [
      "['Sharvari', 'Wairkar', 23, 'Data Science', 'Mumbai']\n"
     ]
    }
   ],
   "source": [
    "list_1 = [\"Sharvari\", 23 ,\"Data Science\",\"Mumbai\"]\n",
    "list_1.insert(1, \"Wairkar\")\n",
    "print(list_1) "
   ]
  },
  {
   "cell_type": "code",
   "execution_count": 13,
   "id": "e2fcb1ff",
   "metadata": {},
   "outputs": [
    {
     "name": "stdout",
     "output_type": "stream",
     "text": [
      "['Sharvari', 23, 'Data Science', 'Mumbai', 'Nail Art']\n"
     ]
    }
   ],
   "source": [
    "list_1 = [\"Sharvari\", 23 ,\"Data Science\",\"Mumbai\"]\n",
    "list_1.append(\"Nail Art\")\n",
    "print(list_1) "
   ]
  },
  {
   "cell_type": "code",
   "execution_count": 15,
   "id": "8f25ec1e",
   "metadata": {},
   "outputs": [
    {
     "name": "stdout",
     "output_type": "stream",
     "text": [
      "['Sharvari', 23, 'Data Science', 'Mumbai', 'Nail Art', 'Rangoli', 'Cooking']\n"
     ]
    }
   ],
   "source": [
    "list_1 = [\"Sharvari\", 23 ,\"Data Science\",\"Mumbai\"]\n",
    "list_1.extend([\"Nail Art\",\"Rangoli\",\"Cooking\"])\n",
    "print(list_1) "
   ]
  },
  {
   "cell_type": "code",
   "execution_count": 16,
   "id": "a148c05d",
   "metadata": {},
   "outputs": [
    {
     "name": "stdout",
     "output_type": "stream",
     "text": [
      "['Sharvari', 23, 'Data Science']\n"
     ]
    }
   ],
   "source": [
    "list_1 = [\"Sharvari\", 23 ,\"Data Science\",\"Mumbai\"]\n",
    "list_1.remove(\"Mumbai\") \n",
    "print(list_1) "
   ]
  },
  {
   "cell_type": "code",
   "execution_count": 17,
   "id": "95b08b33",
   "metadata": {},
   "outputs": [
    {
     "name": "stdout",
     "output_type": "stream",
     "text": [
      "['Sharvari', 'Data Science', 'Mumbai']\n"
     ]
    }
   ],
   "source": [
    "list_1 = [\"Sharvari\", 23 ,\"Data Science\",\"Mumbai\"]\n",
    "list_1.remove(23) \n",
    "print(list_1) "
   ]
  },
  {
   "cell_type": "code",
   "execution_count": 18,
   "id": "17792eaa",
   "metadata": {},
   "outputs": [
    {
     "name": "stdout",
     "output_type": "stream",
     "text": [
      "['Sharvari', 'Data Science', 'Mumbai']\n"
     ]
    }
   ],
   "source": [
    "list_1 = [\"Sharvari\", 23 ,\"Data Science\",\"Mumbai\"]\n",
    "list_1.pop(1)\n",
    "print(list_1) "
   ]
  },
  {
   "cell_type": "code",
   "execution_count": 19,
   "id": "007553e1",
   "metadata": {},
   "outputs": [
    {
     "name": "stdout",
     "output_type": "stream",
     "text": [
      "['Sharvari', 23, 'Data Science']\n"
     ]
    }
   ],
   "source": [
    "list_1 = [\"Sharvari\", 23 ,\"Data Science\",\"Mumbai\"]\n",
    "list_1.pop()\n",
    "print(list_1) "
   ]
  },
  {
   "cell_type": "code",
   "execution_count": 21,
   "id": "9ec20c5b",
   "metadata": {},
   "outputs": [
    {
     "name": "stdout",
     "output_type": "stream",
     "text": [
      "[]\n"
     ]
    }
   ],
   "source": [
    "list_1 = [\"Sharvari\", 23 ,\"Data Science\",\"Mumbai\"]\n",
    "list_1.clear()\n",
    "print(list_1) "
   ]
  },
  {
   "cell_type": "code",
   "execution_count": 23,
   "id": "062cae31",
   "metadata": {},
   "outputs": [
    {
     "ename": "NameError",
     "evalue": "name 'list_1' is not defined",
     "output_type": "error",
     "traceback": [
      "\u001b[1;31m---------------------------------------------------------------------------\u001b[0m",
      "\u001b[1;31mNameError\u001b[0m                                 Traceback (most recent call last)",
      "\u001b[1;32m~\\AppData\\Local\\Temp/ipykernel_16640/3740754881.py\u001b[0m in \u001b[0;36m<module>\u001b[1;34m\u001b[0m\n\u001b[0;32m      1\u001b[0m \u001b[0mlist_1\u001b[0m \u001b[1;33m=\u001b[0m \u001b[1;33m[\u001b[0m\u001b[1;34m\"Sharvari\"\u001b[0m\u001b[1;33m,\u001b[0m \u001b[1;36m23\u001b[0m \u001b[1;33m,\u001b[0m\u001b[1;34m\"Data Science\"\u001b[0m\u001b[1;33m,\u001b[0m\u001b[1;34m\"Mumbai\"\u001b[0m\u001b[1;33m]\u001b[0m\u001b[1;33m\u001b[0m\u001b[1;33m\u001b[0m\u001b[0m\n\u001b[0;32m      2\u001b[0m \u001b[1;32mdel\u001b[0m \u001b[0mlist_1\u001b[0m\u001b[1;33m\u001b[0m\u001b[1;33m\u001b[0m\u001b[0m\n\u001b[1;32m----> 3\u001b[1;33m \u001b[0mprint\u001b[0m\u001b[1;33m(\u001b[0m\u001b[0mlist_1\u001b[0m\u001b[1;33m)\u001b[0m\u001b[1;33m\u001b[0m\u001b[1;33m\u001b[0m\u001b[0m\n\u001b[0m",
      "\u001b[1;31mNameError\u001b[0m: name 'list_1' is not defined"
     ]
    }
   ],
   "source": [
    "list_1 = [\"Sharvari\", 23 ,\"Data Science\",\"Mumbai\"]\n",
    "del list_1\n",
    "print(list_1) "
   ]
  }
 ],
 "metadata": {
  "kernelspec": {
   "display_name": "Python 3 (ipykernel)",
   "language": "python",
   "name": "python3"
  },
  "language_info": {
   "codemirror_mode": {
    "name": "ipython",
    "version": 3
   },
   "file_extension": ".py",
   "mimetype": "text/x-python",
   "name": "python",
   "nbconvert_exporter": "python",
   "pygments_lexer": "ipython3",
   "version": "3.9.7"
  }
 },
 "nbformat": 4,
 "nbformat_minor": 5
}
