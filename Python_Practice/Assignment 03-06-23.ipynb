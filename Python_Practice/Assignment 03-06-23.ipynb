{
 "cells": [
  {
   "cell_type": "code",
   "execution_count": 2,
   "id": "95fe69e1",
   "metadata": {},
   "outputs": [
    {
     "name": "stdout",
     "output_type": "stream",
     "text": [
      "COMPUTER\n",
      "APTECH\n"
     ]
    }
   ],
   "source": [
    "#Question-1\n",
    "\n",
    "print(\"COMPUTER\\nAPTECH\")"
   ]
  },
  {
   "cell_type": "code",
   "execution_count": 3,
   "id": "eeedd2ce",
   "metadata": {},
   "outputs": [
    {
     "name": "stdout",
     "output_type": "stream",
     "text": [
      "The Basic salary of employee is 1000.5\n",
      "The Da on Basic salary is 500.25\n",
      "The Hra on Basic salary is 200.10000000000002\n",
      "The Total Gross Salary of employee is 1700.85\n",
      "The TAX on total salary is 170.085\n"
     ]
    }
   ],
   "source": [
    "#Question-2- Calculate and print basic\n",
    "\n",
    "Basic = 1000.50\n",
    "Da = 0.5 * Basic\n",
    "Hra = 0.2 * Basic\n",
    "Total = Basic + Da + Hra\n",
    "Tax = 0.10 * Total \n",
    "print(\"The Basic salary of employee is\", Basic)\n",
    "print(\"The Da on Basic salary is\", Da)\n",
    "print(\"The Hra on Basic salary is\", Hra)\n",
    "print(\"The Total Gross Salary of employee is\", Total)\n",
    "print(\"The TAX on total salary is\", Tax)\n"
   ]
  },
  {
   "cell_type": "code",
   "execution_count": 4,
   "id": "3c63bbc7",
   "metadata": {},
   "outputs": [
    {
     "name": "stdout",
     "output_type": "stream",
     "text": [
      "Area of a Triangle is 25.0\n"
     ]
    }
   ],
   "source": [
    "#Question-3 - Find out area of traingle\n",
    "\n",
    "Base = 5\n",
    "Height = 10\n",
    "\n",
    "Area = (Base * Height)/2\n",
    "print(\"Area of a Triangle is\", Area)\n"
   ]
  },
  {
   "cell_type": "code",
   "execution_count": 5,
   "id": "de4ff6f8",
   "metadata": {},
   "outputs": [
    {
     "name": "stdout",
     "output_type": "stream",
     "text": [
      "Enter Base of a Traingle : 10\n",
      "Enter Height of a Triangle : 15\n",
      "Area of a Traingle is 75.0\n"
     ]
    }
   ],
   "source": [
    "#Question-4 - Find area of traingle with input method\n",
    "\n",
    "Base = int(input(\"Enter Base of a Traingle : \"))\n",
    "Height = int(input(\"Enter Height of a Triangle : \"))\n",
    "\n",
    "Area = (Base * Height)/2\n",
    "print(\"Area of a Traingle is\", Area)"
   ]
  },
  {
   "cell_type": "code",
   "execution_count": 6,
   "id": "5b7da44d",
   "metadata": {},
   "outputs": [
    {
     "name": "stdout",
     "output_type": "stream",
     "text": [
      "Enter Side1 of a Traingle : 4\n",
      "Enter Side2 of a Traingle : 4\n",
      "Enter Side3 of a Traingle : 4\n",
      "Area of a Traingle is 6.0\n"
     ]
    }
   ],
   "source": [
    "#Question-5 - input lengths of 3 sides of a triangle and print the area\n",
    "\n",
    "S1 = int(input(\"Enter Side1 of a Traingle : \"))\n",
    "S2 = int(input(\"Enter Side2 of a Traingle : \"))\n",
    "S3 = int(input(\"Enter Side3 of a Traingle : \"))\n",
    "\n",
    "Area = (S1 + S2 + S3)/2\n",
    "print(\"Area of a Traingle is\", Area) "
   ]
  },
  {
   "cell_type": "code",
   "execution_count": 7,
   "id": "871abcaa",
   "metadata": {},
   "outputs": [
    {
     "name": "stdout",
     "output_type": "stream",
     "text": [
      "Enter the temperature you like to convert : 104\n",
      "The temprature in Celcius is 40 Degrees.\n"
     ]
    }
   ],
   "source": [
    "#Question-6 -  to convert temperature in Fahrenheit into centigrade\n",
    "\n",
    "temp = int(input(\"Enter the temperature you like to convert : \"))\n",
    "\n",
    "result = int(round((temp - 32) * 5/9)) \n",
    "print(\"The temprature in Celcius is\", result, \"Degrees.\") "
   ]
  },
  {
   "cell_type": "code",
   "execution_count": 9,
   "id": "bcdb561d",
   "metadata": {},
   "outputs": [
    {
     "name": "stdout",
     "output_type": "stream",
     "text": [
      "Please enter the value for A : 600\n",
      "Please enter the value for B : 1000\n",
      "The value of A after Swaping: 1000\n",
      "The value of B agter Swaping: 600\n"
     ]
    }
   ],
   "source": [
    "#Question-8-  WAP to accept 2 numbers. Interchange the two numbers and then print them.\n",
    "\n",
    "A = int(input(\"Please enter the value for A : \"))\n",
    "B = int(input(\"Please enter the value for B : \"))\n",
    "\n",
    "#To swap the values\n",
    "\n",
    "A = A ^ B \n",
    "B = B ^ A\n",
    "A = A ^ B\n",
    "\n",
    "print(\"The value of A after Swaping:\", A)\n",
    "print(\"The value of B agter Swaping:\", B) \n"
   ]
  },
  {
   "cell_type": "code",
   "execution_count": 14,
   "id": "cb303d81",
   "metadata": {},
   "outputs": [
    {
     "name": "stdout",
     "output_type": "stream",
     "text": [
      "Enter your height:\n",
      "Feet : 5\n",
      "Inches : 2\n",
      "Your Height in CM is :152 cm.\n"
     ]
    }
   ],
   "source": [
    "#Question-9 - To input height in feet and inches and then print the height in centimetres.\n",
    "\n",
    "print(\"Enter your height:\")\n",
    "h_ft = int(input(\"Feet : \"))\n",
    "h_inch = int(input(\"Inches : \"))\n",
    "\n",
    "h_inch = h_ft * 12\n",
    "h_cm = round(h_inch * 2.54)\n",
    "\n",
    "print(\"Your Height in CM is :%d cm.\" % h_cm) "
   ]
  },
  {
   "cell_type": "code",
   "execution_count": null,
   "id": "d408f289",
   "metadata": {},
   "outputs": [],
   "source": [
    "#Question-7 - To accept in hours, minutes and seconds and calculate and print time in seconds.\n",
    "\n"
   ]
  }
 ],
 "metadata": {
  "kernelspec": {
   "display_name": "Python 3 (ipykernel)",
   "language": "python",
   "name": "python3"
  },
  "language_info": {
   "codemirror_mode": {
    "name": "ipython",
    "version": 3
   },
   "file_extension": ".py",
   "mimetype": "text/x-python",
   "name": "python",
   "nbconvert_exporter": "python",
   "pygments_lexer": "ipython3",
   "version": "3.9.7"
  }
 },
 "nbformat": 4,
 "nbformat_minor": 5
}
