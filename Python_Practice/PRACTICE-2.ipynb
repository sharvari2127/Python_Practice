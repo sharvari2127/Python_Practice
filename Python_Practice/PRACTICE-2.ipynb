{
 "cells": [
  {
   "cell_type": "code",
   "execution_count": null,
   "id": "a146dd40",
   "metadata": {},
   "outputs": [],
   "source": [
    "#STRING PRACTICE"
   ]
  },
  {
   "cell_type": "code",
   "execution_count": 2,
   "id": "3e64f0c6",
   "metadata": {},
   "outputs": [
    {
     "name": "stdout",
     "output_type": "stream",
     "text": [
      "My name is sharvari\n"
     ]
    }
   ],
   "source": [
    "str1 = \"My name is sharvari\" \n",
    "print(str1) "
   ]
  },
  {
   "cell_type": "code",
   "execution_count": 5,
   "id": "f9db7664",
   "metadata": {},
   "outputs": [
    {
     "name": "stdout",
     "output_type": "stream",
     "text": [
      "\"my name is sharvari \n",
      "and \n",
      "i am 23 years old\n"
     ]
    }
   ],
   "source": [
    "#multi line string\n",
    "str2 = \"\"\"\"my name is sharvari \n",
    "and \n",
    "i am 23 years old\"\"\" \n",
    "print(str2) "
   ]
  },
  {
   "cell_type": "code",
   "execution_count": 6,
   "id": "52a9e8e6",
   "metadata": {},
   "outputs": [
    {
     "data": {
      "text/plain": [
       "'my name is sharvari'"
      ]
     },
     "execution_count": 6,
     "metadata": {},
     "output_type": "execute_result"
    }
   ],
   "source": [
    "#STRING FUNCTIONS\n",
    "#1-LOWER()\n",
    "\n",
    "str1 = \"My name is sharvari\" \n",
    "str1.lower() "
   ]
  },
  {
   "cell_type": "code",
   "execution_count": 7,
   "id": "1162868c",
   "metadata": {},
   "outputs": [
    {
     "data": {
      "text/plain": [
       "'MY NAME IS SHARVARI'"
      ]
     },
     "execution_count": 7,
     "metadata": {},
     "output_type": "execute_result"
    }
   ],
   "source": [
    "#2-UPPER()\n",
    "str1.upper() "
   ]
  },
  {
   "cell_type": "code",
   "execution_count": 8,
   "id": "196cd339",
   "metadata": {},
   "outputs": [
    {
     "data": {
      "text/plain": [
       "'My Name Is Sharvari'"
      ]
     },
     "execution_count": 8,
     "metadata": {},
     "output_type": "execute_result"
    }
   ],
   "source": [
    "#3-TITLE() \n",
    "str1.title() "
   ]
  },
  {
   "cell_type": "code",
   "execution_count": 9,
   "id": "0f008931",
   "metadata": {},
   "outputs": [
    {
     "data": {
      "text/plain": [
       "'My name is sharvari'"
      ]
     },
     "execution_count": 9,
     "metadata": {},
     "output_type": "execute_result"
    }
   ],
   "source": [
    "#4-CAPTALIZE()\n",
    "str1.capitalize() "
   ]
  },
  {
   "cell_type": "code",
   "execution_count": 10,
   "id": "d8536db2",
   "metadata": {},
   "outputs": [
    {
     "data": {
      "text/plain": [
       "'mY NAME IS SHARVARI'"
      ]
     },
     "execution_count": 10,
     "metadata": {},
     "output_type": "execute_result"
    }
   ],
   "source": [
    "#5-SWAPCASE()\n",
    "str1.swapcase() "
   ]
  },
  {
   "cell_type": "code",
   "execution_count": 11,
   "id": "fcfac32e",
   "metadata": {},
   "outputs": [
    {
     "data": {
      "text/plain": [
       "['My', 'name', 'is', 'sharvari']"
      ]
     },
     "execution_count": 11,
     "metadata": {},
     "output_type": "execute_result"
    }
   ],
   "source": [
    "#6-SPLIT() \n",
    "str1.split() "
   ]
  },
  {
   "cell_type": "code",
   "execution_count": 16,
   "id": "90a32dce",
   "metadata": {},
   "outputs": [
    {
     "data": {
      "text/plain": [
       "8"
      ]
     },
     "execution_count": 16,
     "metadata": {},
     "output_type": "execute_result"
    }
   ],
   "source": [
    "str1.index(\"is\") "
   ]
  },
  {
   "cell_type": "code",
   "execution_count": null,
   "id": "dfbe902e",
   "metadata": {},
   "outputs": [],
   "source": [
    "#NUMERIC DATATYPES"
   ]
  },
  {
   "cell_type": "code",
   "execution_count": 18,
   "id": "95be2a1c",
   "metadata": {},
   "outputs": [
    {
     "name": "stdout",
     "output_type": "stream",
     "text": [
      "Name of the student : SHARVARI SANDESH WAIRKAR\n",
      "SHARVARI SANDESH WAIRKAR\n",
      "Marks obtained in python are : 77\n",
      "77\n"
     ]
    }
   ],
   "source": [
    "print(input(\"Name of the student : \"))\n",
    "print(int(input(\"Marks obtained in python are : \"))) "
   ]
  },
  {
   "cell_type": "code",
   "execution_count": null,
   "id": "6b2d117c",
   "metadata": {},
   "outputs": [],
   "source": [
    "#LISTS PRACTICE"
   ]
  },
  {
   "cell_type": "code",
   "execution_count": 19,
   "id": "a9654fca",
   "metadata": {},
   "outputs": [
    {
     "name": "stdout",
     "output_type": "stream",
     "text": [
      "['cricket', 526, 'football', 96, 78, True, 'hockey', 'swiming']\n"
     ]
    },
    {
     "data": {
      "text/plain": [
       "['cricket',\n",
       " 526,\n",
       " 'football',\n",
       " 96,\n",
       " 78,\n",
       " True,\n",
       " 'hockey',\n",
       " 'swiming',\n",
       " 'cricket',\n",
       " 526,\n",
       " 'football',\n",
       " 96,\n",
       " 78,\n",
       " True,\n",
       " 'hockey',\n",
       " 'swiming']"
      ]
     },
     "execution_count": 19,
     "metadata": {},
     "output_type": "execute_result"
    }
   ],
   "source": [
    "l1 = [\"cricket\",526,\"football\",96,78,True,\"hockey\",\"swiming\"]\n",
    "print(l1)\n",
    "l1*2 -#to print list 2 times"
   ]
  },
  {
   "cell_type": "code",
   "execution_count": 20,
   "id": "3719e09e",
   "metadata": {},
   "outputs": [
    {
     "name": "stdout",
     "output_type": "stream",
     "text": [
      "['cricket', 526, 'football', 96, 78, '196', 'hockey', 'swiming']\n"
     ]
    }
   ],
   "source": [
    "l1 = [\"cricket\",526,\"football\",96,78,True,\"hockey\",\"swiming\"]\n",
    "l1[5] = \"196\"\n",
    "print(l1)"
   ]
  },
  {
   "cell_type": "code",
   "execution_count": 22,
   "id": "cb8628b9",
   "metadata": {},
   "outputs": [
    {
     "name": "stdout",
     "output_type": "stream",
     "text": [
      "How many elements you want in a list ? : 10\n",
      "Enter the numbers 10\n",
      "Enter the numbers 20\n",
      "Enter the numbers 85\n",
      "Enter the numbers 45\n",
      "Enter the numbers 79\n",
      "Enter the numbers 66\n",
      "Enter the numbers 459\n",
      "Enter the numbers 1000\n",
      "Enter the numbers 5963\n",
      "Enter the numbers 259\n",
      "Maximum element in the list is : 5963\n",
      "Minimum element in the list is : 10\n"
     ]
    }
   ],
   "source": [
    "#Finding the largest and smallest element of the list by input method\n",
    "\n",
    "list1 = []\n",
    "num = int(input(\"How many elements you want in a list ? : \"))\n",
    "for x in range(num):\n",
    "    numbers = int(input(\"Enter the numbers \"))\n",
    "    list1.append(numbers) \n",
    "print(\"Maximum element in the list is :\",max(list1))\n",
    "print(\"Minimum element in the list is :\",min(list1)) "
   ]
  },
  {
   "cell_type": "code",
   "execution_count": 25,
   "id": "ae0bcbc7",
   "metadata": {},
   "outputs": [
    {
     "name": "stdout",
     "output_type": "stream",
     "text": [
      "{'yellow', 'pink'}\n"
     ]
    }
   ],
   "source": [
    "#SET PRACTICE\n",
    "colours = {\"orange\",\"pink\",\"blue\",\"purple\",\"red\",\"yellow\"}\n",
    "colours2 = {\"yellow\",\"green\",\"brown\",\"pink\"} \n",
    "\n",
    "colours3 = colours & colours2\n",
    "print(colours3) "
   ]
  },
  {
   "cell_type": "code",
   "execution_count": 26,
   "id": "794c0fe7",
   "metadata": {},
   "outputs": [
    {
     "name": "stdout",
     "output_type": "stream",
     "text": [
      "{'green', 'pink', 'brown', 'orange', 'red', 'blue', 'purple', 'yellow'}\n"
     ]
    }
   ],
   "source": [
    "c4 = colours | colours2\n",
    "print(c4)"
   ]
  },
  {
   "cell_type": "code",
   "execution_count": 27,
   "id": "84bd2911",
   "metadata": {},
   "outputs": [
    {
     "name": "stdout",
     "output_type": "stream",
     "text": [
      "{'orange', 'purple', 'red', 'blue'}\n"
     ]
    }
   ],
   "source": [
    "print(colours - colours2)"
   ]
  },
  {
   "cell_type": "code",
   "execution_count": 28,
   "id": "8fc8ca54",
   "metadata": {},
   "outputs": [
    {
     "name": "stdout",
     "output_type": "stream",
     "text": [
      "{'brown', 'green'}\n"
     ]
    }
   ],
   "source": [
    "print(colours2.difference(colours)) "
   ]
  },
  {
   "cell_type": "code",
   "execution_count": 29,
   "id": "1cec3064",
   "metadata": {},
   "outputs": [
    {
     "name": "stdout",
     "output_type": "stream",
     "text": [
      "{'blue', 'brown', 'orange', 'red', 'green', 'purple'}\n"
     ]
    }
   ],
   "source": [
    "c5 = colours ^ colours2\n",
    "print(c5)"
   ]
  },
  {
   "cell_type": "code",
   "execution_count": null,
   "id": "bbcc1c56",
   "metadata": {},
   "outputs": [],
   "source": [
    "set_ = {52,963,852,741}"
   ]
  }
 ],
 "metadata": {
  "kernelspec": {
   "display_name": "Python 3 (ipykernel)",
   "language": "python",
   "name": "python3"
  },
  "language_info": {
   "codemirror_mode": {
    "name": "ipython",
    "version": 3
   },
   "file_extension": ".py",
   "mimetype": "text/x-python",
   "name": "python",
   "nbconvert_exporter": "python",
   "pygments_lexer": "ipython3",
   "version": "3.9.7"
  }
 },
 "nbformat": 4,
 "nbformat_minor": 5
}
