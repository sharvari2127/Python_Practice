{
 "cells": [
  {
   "cell_type": "code",
   "execution_count": null,
   "id": "f86d2036",
   "metadata": {},
   "outputs": [],
   "source": [
    "#-1.Accept the percentage from the user and display the grade according to the following criteria:\n",
    "#Below 25 —- D \n",
    "#25 to 45 —- C \n",
    "#45 to 50 —- B\n",
    "#50 to 60 –– B+ \n",
    "#60 to 80 —- A \n",
    "#Above 80 –- A+"
   ]
  },
  {
   "cell_type": "code",
   "execution_count": 4,
   "id": "b20c5dc5",
   "metadata": {},
   "outputs": [
    {
     "name": "stdout",
     "output_type": "stream",
     "text": [
      "Enter the percentage of the student : 88\n",
      "The Grade is A+\n"
     ]
    }
   ],
   "source": [
    "percentage = int(input(\"Enter the percentage of the student : \"))\n",
    "if percentage >= 0 and percentage <= 100:\n",
    "    if percentage < 25:\n",
    "        print(\"The Grade is D\")\n",
    "    elif percentage >= 25 and percentage <= 45:\n",
    "        print(\"The Grade is C\")\n",
    "    elif percentage >= 45 and percentage <= 50:\n",
    "        print(\"The Grade is B\")\n",
    "    elif percentage >= 50 and percentage <= 60:\n",
    "        print(\"The Grade is B+\")\n",
    "    elif percentage >= 60 and percentage <= 80:\n",
    "        print(\"The Grade is A\")  \n",
    "    elif percentage > 80:\n",
    "        print(\"The Grade is A+\")    \n",
    "else: print(\"Please Enter Valid Percentage\")         "
   ]
  },
  {
   "cell_type": "code",
   "execution_count": null,
   "id": "957f0684",
   "metadata": {},
   "outputs": [],
   "source": [
    "#-3.Accept three sides of a triangle and check whether it is an equilateral,\n",
    "#isosceles or scalene triangle. \n",
    "#Note:\n",
    "#An equilateral triangle is a triangle in which all three sides are equal.\n",
    "#A scalene triangle is a triangle that has three unequal sides.\n",
    "#An isosceles triangle is a triangle with (at least) two equal sides."
   ]
  },
  {
   "cell_type": "code",
   "execution_count": 6,
   "id": "74a79632",
   "metadata": {},
   "outputs": [
    {
     "name": "stdout",
     "output_type": "stream",
     "text": [
      "Enter the 1st side of a Triangle : 10\n",
      "Enter the 2nd side of a Traingle : 10\n",
      "Enter the 3rd side of a Triangle : 10\n",
      "Equilateral Traingle\n"
     ]
    }
   ],
   "source": [
    "s1 = int(input(\"Enter the 1st side of a Triangle : \"))\n",
    "s2 = int(input(\"Enter the 2nd side of a Traingle : \"))\n",
    "s3 = int(input(\"Enter the 3rd side of a Triangle : \"))\n",
    "\n",
    "if s1 == s2 == s3:\n",
    "    print(\"Equilateral Traingle\")\n",
    "elif s1 != s2 != s3:\n",
    "    print(\"Scalene Traingle\")\n",
    "else:\n",
    "    print(\"Isosceles Traingle\")"
   ]
  },
  {
   "cell_type": "code",
   "execution_count": null,
   "id": "9140a8ef",
   "metadata": {},
   "outputs": [],
   "source": [
    "#-4.Accept three sides of triangle and check whether the triangle is possible or not.\n",
    "#(triangle is possible only when sum of any two sides is greater than 3rd side)"
   ]
  },
  {
   "cell_type": "code",
   "execution_count": 14,
   "id": "650251dc",
   "metadata": {},
   "outputs": [
    {
     "name": "stdout",
     "output_type": "stream",
     "text": [
      "Enter the 1st side of a Triangle : 5\n",
      "Enter the 2nd side of a Traingle : 1\n",
      "Enter the 3rd side of a Triangle : 5\n",
      "Triangle is Possible\n"
     ]
    }
   ],
   "source": [
    "s1 = int(input(\"Enter the 1st side of a Triangle : \"))\n",
    "s2 = int(input(\"Enter the 2nd side of a Traingle : \"))\n",
    "s3 = int(input(\"Enter the 3rd side of a Triangle : \"))\n",
    "\n",
    "if s1 + s2 > s3 and s2 + s3 > s1 and s1 + s3 > s2:\n",
    "    print(\"Triangle is Possible\")\n",
    "else:\n",
    "    print(\"Triangle is not Possible\")"
   ]
  },
  {
   "cell_type": "code",
   "execution_count": null,
   "id": "59b90289",
   "metadata": {},
   "outputs": [],
   "source": [
    "#-5.Check whether the given key is present in the dictionary or not."
   ]
  },
  {
   "cell_type": "code",
   "execution_count": 35,
   "id": "5c7ba5a1",
   "metadata": {},
   "outputs": [
    {
     "name": "stdout",
     "output_type": "stream",
     "text": [
      "Enter the key you want to check : Name\n",
      "Yes, the given key is present in the Dictionary\n"
     ]
    }
   ],
   "source": [
    "pd = {\"Name\":\"Sharvari\",\"Age\":23,\"Field\":\"Data Science\",\"ID\":2127}\n",
    "key = input(\"Enter the key you want to check : \")\n",
    "if key in pd:\n",
    "    print(\"Yes, the given key is present in the Dictionary\")\n",
    "else:\n",
    "    print(\"key unrecognised, Please enter a valid key\")"
   ]
  },
  {
   "cell_type": "code",
   "execution_count": null,
   "id": "daefa522",
   "metadata": {},
   "outputs": [],
   "source": [
    "#-6.Write a program to check whether the number entered is three digit or not"
   ]
  },
  {
   "cell_type": "code",
   "execution_count": 9,
   "id": "8d056096",
   "metadata": {},
   "outputs": [
    {
     "name": "stdout",
     "output_type": "stream",
     "text": [
      "Enter any Number : 456\n",
      "The number is Three Digit Number\n"
     ]
    }
   ],
   "source": [
    "num1 = int(input(\"Enter any Number : \"))\n",
    "num2 = str(num1)\n",
    "l = len(num2)\n",
    "if l != 3:\n",
    "    print(\"Please enter a valid Number\")\n",
    "else:\n",
    "    print(\"The number is Three Digit Number\")"
   ]
  },
  {
   "cell_type": "code",
   "execution_count": null,
   "id": "feac7f6b",
   "metadata": {},
   "outputs": [],
   "source": [
    "#-9.Accept three numbers from the user and display the second largest number."
   ]
  },
  {
   "cell_type": "code",
   "execution_count": 17,
   "id": "2803d23f",
   "metadata": {},
   "outputs": [
    {
     "name": "stdout",
     "output_type": "stream",
     "text": [
      "Enter First Number85\n",
      "Enter Second Number78\n",
      "Enter Third Number456\n",
      "The Second Largest Number is 85\n"
     ]
    }
   ],
   "source": [
    "num1 = int(input(\"Enter First Number\"))\n",
    "num2 = int(input(\"Enter Second Number\"))\n",
    "num3 = int(input(\"Enter Third Number\"))\n",
    "\n",
    "if (num1 > num2 and num1 < num3) or (num1 < num2 and num1 > num3):\n",
    "    print(\"The Second Largest Number is\", num1)\n",
    "elif (num2 > num1 and num2 < num3) or (num2 < num1 and num2 > num3):\n",
    "    print(\"The Second Largest Number is\", num2)\n",
    "elif (num3 > num2 and num3 < num1) or (num3 < num2 and num3 > num1):\n",
    "    print(\"The Second Largest Number is\", num3)\n",
    "else:\n",
    "    print(\"Please enter the valid Numbers\") "
   ]
  },
  {
   "cell_type": "code",
   "execution_count": null,
   "id": "a4c85ad5",
   "metadata": {},
   "outputs": [],
   "source": [
    "#-2.Check if two strings are anagram or not. (care = race)"
   ]
  },
  {
   "cell_type": "code",
   "execution_count": 8,
   "id": "f927f42a",
   "metadata": {},
   "outputs": [
    {
     "name": "stdout",
     "output_type": "stream",
     "text": [
      "Enter the first string : LIPS\n",
      "Enter the second string : SLIP\n",
      "The Provided two strings lips and slip are Anagram.\n"
     ]
    }
   ],
   "source": [
    "str1 = input(\"Enter the first string : \")\n",
    "str2 = input(\"Enter the second string : \")\n",
    "if len(str1) == len(str2):\n",
    "    str1 = str1.lower()\n",
    "    str2 = str2.lower()\n",
    "    if sorted(str1) == sorted(str2):\n",
    "        print(\"The Provided two strings\", str1, \"and\",str2, \"are Anagram.\")\n",
    "    else:\n",
    "        print(\"Provided strings are not Anagram.\")\n",
    "else:\n",
    "    print(\"Provided strings are not Anagram.\")"
   ]
  },
  {
   "cell_type": "code",
   "execution_count": null,
   "id": "2f48d7e7",
   "metadata": {},
   "outputs": [],
   "source": [
    "#-8.Accept the age, sex (‘M’, ‘F’), number of days and display the wages accordingly.\n",
    "#Python if else If age does not fall in any range then display the following message:\n",
    "#“Enter appropriate age”"
   ]
  },
  {
   "cell_type": "code",
   "execution_count": 20,
   "id": "cb33a2d0",
   "metadata": {},
   "outputs": [
    {
     "name": "stdout",
     "output_type": "stream",
     "text": [
      "Number of Days Present : 20\n",
      "Enter Age of the Worker : 25\n",
      "Enter F/M : f\n",
      "Wages for f and for the age of 25 is 15000\n"
     ]
    }
   ],
   "source": [
    "present_days = int(input(\"Number of Days Present : \"))\n",
    "age = int(input(\"Enter Age of the Worker : \"))\n",
    "sex = input(\"Enter F/M : \")\n",
    "sex = sex.lower()\n",
    "if age >= 18 and age <30:\n",
    "    if sex == \"m\":\n",
    "        wages = present_days * 700\n",
    "    else:wages = present_days * 750   \n",
    "elif age >= 30 and age < 40:\n",
    "    if sex == \"m\":\n",
    "        wages = present_days * 800\n",
    "    else:wages = present_days * 850  \n",
    "else:\n",
    "     print(\"Enter Appropriate Age\")\n",
    "print(\"Wages for\", sex, \"and for the age of\", age, \"is\", wages)"
   ]
  },
  {
   "cell_type": "code",
   "execution_count": null,
   "id": "db753efe",
   "metadata": {},
   "outputs": [],
   "source": [
    "#-10.Accept number of days from user and calculate charge for library according to following:\n",
    "#Till five days : Rs 2/day.\n",
    "#Six to ten days : Rs 3/day.\n",
    "#11 to 15 days : Rs 4/day.\n",
    "#After 15 days : Rs 5/day"
   ]
  },
  {
   "cell_type": "code",
   "execution_count": 4,
   "id": "6d8e3268",
   "metadata": {},
   "outputs": [
    {
     "name": "stdout",
     "output_type": "stream",
     "text": [
      "Enter Number of days : 7\n",
      "Charges for Library for 7 days are 21 RS\n"
     ]
    }
   ],
   "source": [
    "days = int(input(\"Enter Number of days : \"))\n",
    "if days <= 5:\n",
    "    charge = days * 2\n",
    "elif days > 5 and days <= 10:\n",
    "        charge = days * 3\n",
    "elif days >= 11 and days <= 15:\n",
    "    charge = days * 4\n",
    "else:\n",
    "    charge = days * 5\n",
    "print(\"Charges for Library for\", days, \"days are\", charge, \"RS\")    "
   ]
  },
  {
   "cell_type": "code",
   "execution_count": null,
   "id": "5c0ee076",
   "metadata": {},
   "outputs": [],
   "source": [
    "#-7.Accept the electric units from user and calculate the bill according to the following rates.\n",
    "#First 100 Units : Free\n",
    "#Next 200 Units : Rs 2 per unit. \n",
    "#Above 300 Units : Rs 5 per unit. \n",
    "#if number of unit is 500 then total bill = 0 +400 + 1000 = 1400"
   ]
  },
  {
   "cell_type": "code",
   "execution_count": 5,
   "id": "5596e1b7",
   "metadata": {},
   "outputs": [
    {
     "name": "stdout",
     "output_type": "stream",
     "text": [
      "Enter the Unit : 500\n",
      "The Bill Amount for the unit 500 is 1400 RS\n"
     ]
    }
   ],
   "source": [
    "unit = int(input(\"Enter the Unit : \"))\n",
    "if unit > 0 and unit <= 100:\n",
    "    bill_amount = 0\n",
    "elif unit > 100 and unit <= 300:\n",
    "    bill_amount = (unit - 100) * 2\n",
    "elif unit > 300:\n",
    "    bill_amount = 400 + (unit - 300) * 5\n",
    "else:\n",
    "    print(\"Please Enter valid unit\")\n",
    "    \n",
    "print(\"The Bill Amount for the unit\", unit, \"is\", bill_amount, \"RS\")    "
   ]
  }
 ],
 "metadata": {
  "kernelspec": {
   "display_name": "Python 3 (ipykernel)",
   "language": "python",
   "name": "python3"
  },
  "language_info": {
   "codemirror_mode": {
    "name": "ipython",
    "version": 3
   },
   "file_extension": ".py",
   "mimetype": "text/x-python",
   "name": "python",
   "nbconvert_exporter": "python",
   "pygments_lexer": "ipython3",
   "version": "3.9.7"
  }
 },
 "nbformat": 4,
 "nbformat_minor": 5
}
