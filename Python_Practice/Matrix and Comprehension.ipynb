{
 "cells": [
  {
   "cell_type": "code",
   "execution_count": 4,
   "id": "fed58c3d",
   "metadata": {},
   "outputs": [
    {
     "name": "stdout",
     "output_type": "stream",
     "text": [
      "[5, 5]\n",
      "[11, 8]\n"
     ]
    }
   ],
   "source": [
    "#1. Add a matrix of 2*2 using nested loop and list comprehension.\n",
    "x = [[2,4],\n",
    "    [5,6]]\n",
    "y = [[3,1],\n",
    "    [6,2]]\n",
    "result = [[0,0],\n",
    "         [0,0]]\n",
    "for i in range(len(x)):\n",
    "    for j in range(len(x[0])):\n",
    "            result[i][j] = x[i][j] + y[i][j]\n",
    "for r in result:\n",
    "    print(r)"
   ]
  },
  {
   "cell_type": "code",
   "execution_count": 1,
   "id": "2eb472b2",
   "metadata": {},
   "outputs": [
    {
     "name": "stdout",
     "output_type": "stream",
     "text": [
      "[5, 5]\n",
      "[11, 8]\n"
     ]
    }
   ],
   "source": [
    "#1-With list comprehension.\n",
    "X = [[2,4],\n",
    "    [5,6]]\n",
    "Y = [[3,1],\n",
    "    [6,2]]\n",
    "result = [[X[i][j] + Y[i][j]  for j in range\n",
    "(len(X[0]))] for i in range(len(X))]\n",
    "  \n",
    "for r in result:\n",
    "    print(r)"
   ]
  },
  {
   "cell_type": "code",
   "execution_count": 6,
   "id": "6c511228",
   "metadata": {},
   "outputs": [
    {
     "name": "stdout",
     "output_type": "stream",
     "text": [
      "[8, 6, 4, 2]\n",
      "[6, 4, 2, 0]\n",
      "[4, 2, 0, -2]\n",
      "[2, 0, -2, -4]\n"
     ]
    }
   ],
   "source": [
    "#2.Write a program to subtract matrix of 4*4 using loop and list comprehension\n",
    "x = [[9,8,7,6],         \n",
    "    [8,7,6,5],\n",
    "    [7,6,5,4],\n",
    "    [6,5,4,3]]\n",
    "\n",
    "y = [[1,2,3,4],\n",
    "    [2,3,4,5],\n",
    "    [3,4,5,6],\n",
    "    [4,5,6,7]]\n",
    "\n",
    "result = [[0,0,0,0],\n",
    "         [0,0,0,0],\n",
    "         [0,0,0,0],\n",
    "         [0,0,0,0]]\n",
    "\n",
    "for i in range(len(x)):\n",
    "    for j in range(len(x[0])):\n",
    "        result[i][j] = x[i][j] - y[i][j]\n",
    "for r in result:\n",
    "    print(r)"
   ]
  },
  {
   "cell_type": "code",
   "execution_count": 8,
   "id": "81db1238",
   "metadata": {},
   "outputs": [
    {
     "name": "stdout",
     "output_type": "stream",
     "text": [
      "[8, 6, 4, 2]\n",
      "[6, 4, 2, 0]\n",
      "[4, 2, 0, -2]\n",
      "[2, 0, -2, -4]\n"
     ]
    }
   ],
   "source": [
    "##2-With list comprehension.\n",
    "X = [[9,8,7,6],         \n",
    "    [8,7,6,5],\n",
    "    [7,6,5,4],\n",
    "    [6,5,4,3]]\n",
    "\n",
    "Y = [[1,2,3,4],\n",
    "    [2,3,4,5],\n",
    "    [3,4,5,6],\n",
    "    [4,5,6,7]]\n",
    "result = [[X[i][j] - Y[i][j]  for j in range\n",
    "(len(X[0]))] for i in range(len(X))]\n",
    "  \n",
    "for r in result:\n",
    "    print(r)"
   ]
  },
  {
   "cell_type": "code",
   "execution_count": 15,
   "id": "b186c41b",
   "metadata": {},
   "outputs": [
    {
     "name": "stdout",
     "output_type": "stream",
     "text": [
      "Original Matrix\n",
      "[1, 2, 3]\n",
      "[2, 3, 4]\n",
      "Transpose Matrix\n",
      "[1, 2]\n",
      "[2, 3]\n",
      "[3, 4]\n"
     ]
    }
   ],
   "source": [
    "#3.Program to find the transpose of a matrix.\n",
    "\n",
    "x = [[1,2,3],\n",
    "    [2,3,4]]\n",
    "\n",
    "result = [[0,0],\n",
    "         [0,0],\n",
    "         [0,0]]\n",
    "transpose = [[row[i] for row in x] for i in range(len(x[0]))]\n",
    "\n",
    "print(\"Original Matrix\")\n",
    "for i in x:\n",
    "    print(i)\n",
    "    \n",
    "print(\"Transpose Matrix\")    \n",
    "for i in transpose:\n",
    "    print(i)"
   ]
  },
  {
   "cell_type": "code",
   "execution_count": 2,
   "id": "b684754b",
   "metadata": {},
   "outputs": [
    {
     "name": "stdout",
     "output_type": "stream",
     "text": [
      "[54, 49, 0]\n",
      "[34, 46, 0]\n"
     ]
    }
   ],
   "source": [
    "#4. Multiply a matrix using nested loop\n",
    "\n",
    "a = [[0,4,7],\n",
    "    [5,2,3]]\n",
    "\n",
    "b = [[2,5],\n",
    "    [3,0],\n",
    "    [6,7]]\n",
    "\n",
    "result = [[0,0,0],\n",
    "         [0,0,0]]\n",
    "\n",
    "for i in range(len(a)):\n",
    "    for j in range(len(b[0])):\n",
    "        for k in range(len(b)):\n",
    "            result[i][j] += a[i][k] * b[k][j]\n",
    "for r in result:\n",
    "    print(r)\n"
   ]
  }
 ],
 "metadata": {
  "kernelspec": {
   "display_name": "Python 3 (ipykernel)",
   "language": "python",
   "name": "python3"
  },
  "language_info": {
   "codemirror_mode": {
    "name": "ipython",
    "version": 3
   },
   "file_extension": ".py",
   "mimetype": "text/x-python",
   "name": "python",
   "nbconvert_exporter": "python",
   "pygments_lexer": "ipython3",
   "version": "3.9.7"
  }
 },
 "nbformat": 4,
 "nbformat_minor": 5
}
