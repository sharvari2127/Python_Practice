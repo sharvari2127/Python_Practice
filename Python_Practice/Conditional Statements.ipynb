{
 "cells": [
  {
   "cell_type": "code",
   "execution_count": null,
   "id": "fdca0e08",
   "metadata": {},
   "outputs": [],
   "source": [
    "#write a program to input the marks of a student print the result as follows\n",
    "#Marks result\n",
    "#Less than 35 = Fail\n",
    "#35 or more but less than 45 = Pass class\n",
    "#45 or more but less than 60 = 2nd class\n",
    "#60 or more but less than 75 = 1st class\n",
    "#75 or more but less than 90 = distinction\n",
    "#90 or more = merit\n",
    "#If the marks are less than 0 or greater than 100, print INVALID Marks"
   ]
  },
  {
   "cell_type": "code",
   "execution_count": 4,
   "id": "30c82914",
   "metadata": {},
   "outputs": [
    {
     "name": "stdout",
     "output_type": "stream",
     "text": [
      "Enter the name of a student : sharvari wairkar\n",
      "Enter the marks obtained by the student : 75\n",
      "Distinction\n"
     ]
    }
   ],
   "source": [
    "name = input(\"Enter the name of a student : \")\n",
    "marks = int(input(\"Enter the marks obtained by the student : \"))\n",
    "if marks < 0 and marks > 100:\n",
    "    print(\"Invalid Marks\")\n",
    "elif marks >= 90:\n",
    "    print(\"Merit\")\n",
    "elif marks >= 75 and marks < 90:\n",
    "    print(\"Distinction\")\n",
    "elif marks >= 60 and marks < 75: \n",
    "    print(\"1st class\")\n",
    "elif marks >= 45 and marks < 60:\n",
    "    print(\"2nd class\")\n",
    "elif marks >= 35 and marks < 45:\n",
    "    print(\"Pass Class\")\n",
    "else:\n",
    "    print(\"Failed\") "
   ]
  },
  {
   "cell_type": "code",
   "execution_count": null,
   "id": "a85b49d9",
   "metadata": {},
   "outputs": [],
   "source": [
    "#The rate of interest varies as per the amount of loan taken as shown below Amount of loan \n",
    "#taken rate of interest.\n",
    "#below 10000 = 5%\n",
    "#10000 - 50000 = 7%\n",
    "#above 50000 = 10%\n",
    "#input the amount of loan calculate and print the simple interest for 10 y"
   ]
  },
  {
   "cell_type": "code",
   "execution_count": 2,
   "id": "7c1ec4ad",
   "metadata": {},
   "outputs": [
    {
     "name": "stdout",
     "output_type": "stream",
     "text": [
      "Enter the principle amount of loan : 60000\n",
      "600.0\n",
      "Simple Interest for the loan amount 60000 for 10 years is 600.0\n"
     ]
    }
   ],
   "source": [
    "pa = int(input(\"Enter the principle amount of loan : \"))\n",
    "if pa < 10000:\n",
    "    si = pa * 10 * 0.5 / 100\n",
    "    print(si)\n",
    "elif pa == 10000 and pa == 50000:\n",
    "    si = pa * 10 * 0.7 / 100\n",
    "    print(si)\n",
    "else pa > 50000:\n",
    "    si = pa * 10 * 0.10 / 100\n",
    "    print(si)    \n",
    "print(\"Simple Interest for the loan amount\", pa ,\"for 10 years is\", si)    "
   ]
  },
  {
   "cell_type": "code",
   "execution_count": null,
   "id": "06842118",
   "metadata": {},
   "outputs": [],
   "source": [
    "#If order amount is not exceeding Rs. 10000 then discount rate is 5% If order\n",
    "#amount exceed Rs 10000 but not exceeding Rs 25000 then discount rate is 10% if order amount \n",
    "#exceed Rs. 25000 then discount rate is 15% write a program to\n",
    "#input item number, quantity ordered, unit price and then print item number, order amount, \n",
    "#discount and net amount."
   ]
  },
  {
   "cell_type": "code",
   "execution_count": 8,
   "id": "31b999e0",
   "metadata": {},
   "outputs": [
    {
     "name": "stdout",
     "output_type": "stream",
     "text": [
      "Enter the product/Item number : 10\n",
      "Enter the Quantity Ordered : 60\n",
      "Enter price of a single unit of the product : 15\n",
      "Discount :  45.0\n",
      "Net Amount : 855.0\n"
     ]
    }
   ],
   "source": [
    "item_no = int(input(\"Enter the product/Item number : \"))\n",
    "quantity = int(input(\"Enter the Quantity Ordered : \"))\n",
    "rate = int(input(\"Enter price of a single unit of the product : \"))\n",
    "amount = quantity * rate\n",
    "if amount <= 10000:\n",
    "    discount = amount * 0.05\n",
    "elif amount > 10000 and amount == 25000:\n",
    "    discount = amount * 0.10\n",
    "elif amount > 25000:\n",
    "     discount = amount * 0.15\n",
    "    \n",
    "print(\"Discount : \",discount)\n",
    "print(\"Net Amount :\",amount - discount)"
   ]
  },
  {
   "cell_type": "code",
   "execution_count": null,
   "id": "0e60bec1",
   "metadata": {},
   "outputs": [],
   "source": [
    "#write a program to input bil number (bno) and sales amount (sales)\n",
    "#calculate sales tax (stax) as follows\n",
    "#Sales = Sales Tax\n",
    "#First 3500 = 2.5%\n",
    "#Next 5000 = 3.75%\n",
    "#Next 7500 = 4.25%\n",
    "#Excess = 5%\n",
    "#Also include statements to print the details of bill number, sales amount, sales\n",
    "#tax and total amount (tamt)."
   ]
  },
  {
   "cell_type": "code",
   "execution_count": 13,
   "id": "be0804c9",
   "metadata": {},
   "outputs": [
    {
     "name": "stdout",
     "output_type": "stream",
     "text": [
      "Bill number : 101\n",
      "Sales Amount : 8000\n",
      "sales tax 200.0\n",
      "Total Amount is 8200.0\n"
     ]
    }
   ],
   "source": [
    "bno = int(input(\"Bill number : \"))\n",
    "sales = int(input(\"Sales Amount : \"))\n",
    "sales_tax = sales * 2.5/100\n",
    "tamt = sales + sales_tax\n",
    "print(\"sales tax\", sales_tax)\n",
    "print(\"Total Amount is\", tamt) "
   ]
  },
  {
   "cell_type": "code",
   "execution_count": null,
   "id": "2d67f69d",
   "metadata": {},
   "outputs": [],
   "source": []
  }
 ],
 "metadata": {
  "kernelspec": {
   "display_name": "Python 3 (ipykernel)",
   "language": "python",
   "name": "python3"
  },
  "language_info": {
   "codemirror_mode": {
    "name": "ipython",
    "version": 3
   },
   "file_extension": ".py",
   "mimetype": "text/x-python",
   "name": "python",
   "nbconvert_exporter": "python",
   "pygments_lexer": "ipython3",
   "version": "3.9.7"
  }
 },
 "nbformat": 4,
 "nbformat_minor": 5
}
