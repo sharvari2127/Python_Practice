{
 "cells": [
  {
   "cell_type": "code",
   "execution_count": null,
   "id": "f4624aee",
   "metadata": {},
   "outputs": [],
   "source": [
    "#WAP a program to input the marks of a student and print the result PASS \n",
    "#or FAIL. If marks are less than 35, result is FAIL. If marks are 35 or more result is \n",
    "#PASS."
   ]
  },
  {
   "cell_type": "code",
   "execution_count": 7,
   "id": "c5c252c9",
   "metadata": {},
   "outputs": [
    {
     "name": "stdout",
     "output_type": "stream",
     "text": [
      "Enter marks obtained in 3 subjects\n",
      "Marks obtained in subject no one : 50\n",
      "Marks obtained in subject no two : 50\n",
      "Marks obtained in subject no three : 50\n",
      "Average marks obtained by the students : 50.0\n",
      "The student is Pass\n"
     ]
    }
   ],
   "source": [
    "print('Enter marks obtained in 3 subjects')\n",
    "s1=int(input(\"Marks obtained in subject no one : \"))\n",
    "s2=int(input(\"Marks obtained in subject no two : \"))\n",
    "s3=int(input(\"Marks obtained in subject no three : \"))\n",
    "avg=(s1+s2+s3)/3\n",
    "print(\"Average marks obtained by the students :\",avg)\n",
    "if s1>40 and s2>40:\n",
    "    print('The student is Pass')\n",
    "elif s2>40 and s3>40:\n",
    "    print('The student is Pass')\n",
    "else:\n",
    "    print('The student is Fail')"
   ]
  },
  {
   "cell_type": "code",
   "execution_count": null,
   "id": "f007d226",
   "metadata": {},
   "outputs": [],
   "source": [
    "#WAP to input bill no. and sales amount. Display bill no., sales amount, \n",
    "#sales tax and net amount. sales tax is 5% of sales, if sales is upto 5000 otherwise \n",
    "#10%"
   ]
  },
  {
   "cell_type": "code",
   "execution_count": 9,
   "id": "1833f58c",
   "metadata": {},
   "outputs": [
    {
     "name": "stdout",
     "output_type": "stream",
     "text": [
      "Enter the bill number : 100\n",
      "Enter the sales amount : 7000\n",
      "The Bill Number is : 100\n",
      "The Sales Amount is : 7000\n",
      "Sales Tax is : 700.0\n",
      "Net Amount is : 6300.0\n"
     ]
    }
   ],
   "source": [
    "bill_no = int(input(\"Enter the bill number : \"))\n",
    "sales_amount = int(input(\"Enter the sales amount : \"))\n",
    "print(\"The Bill Number is :\",bill_no)\n",
    "print(\"The Sales Amount is :\",sales_amount)\n",
    "\n",
    "if sales_amount <= 5000:\n",
    "    sales_tax = sales_amount * 0.05\n",
    "else:\n",
    "    sales_tax = sales_amount * 0.10\n",
    "net_amount = sales_amount - sales_tax\n",
    "\n",
    "print(\"Sales Tax is :\",sales_tax)\n",
    "print(\"Net Amount is :\",net_amount) "
   ]
  },
  {
   "cell_type": "code",
   "execution_count": null,
   "id": "35d0b315",
   "metadata": {},
   "outputs": [],
   "source": [
    "#WAP a program to accept employee number (en) and basic salary(bs) from \n",
    "#the keyboard. calculate and display dearness allowance (da) as 63% of basic \n",
    "#salary, house rent allowance (hra) as 40% of basic salary, special allowance(sa)\n",
    "#as 15% of basic salary whenever basic salary is over rs 3500,otherwise no special \n",
    "#allowance is to be given, gross salary(gs) is bs+da+hra+sa."
   ]
  },
  {
   "cell_type": "code",
   "execution_count": 15,
   "id": "4cb19d99",
   "metadata": {},
   "outputs": [
    {
     "name": "stdout",
     "output_type": "stream",
     "text": [
      "Enter the Empolyee Number : 2127\n",
      "Enter Basic Salary of the employee : 50000\n",
      "No Special Allowance to be given\n",
      "Dearness Allowance is : 31500.0\n",
      "House Rent Allowance is : 20000.0\n",
      "Spacial Allowance is : 7500.0\n",
      "Gross Salary of empolyee 2127 is 109000.0\n"
     ]
    }
   ],
   "source": [
    "en = int(input(\"Enter the Empolyee Number : \"))\n",
    "bs = int(input(\"Enter Basic Salary of the employee : \"))\n",
    "da = bs * 0.63\n",
    "hra = bs * 0.4\n",
    "sa = bs * 0.15  \n",
    "if bs <= 3500:\n",
    "      sa = bs * 0.15     \n",
    "else: print(\"No Special Allowance to be given\")     \n",
    "print(\"Dearness Allowance is :\",da)\n",
    "print(\"House Rent Allowance is :\",hra)\n",
    "print(\"Spacial Allowance is :\",sa)\n",
    "gs = bs + da + hra + sa\n",
    "print(\"Gross Salary of empolyee\" ,en, \"is\" ,gs) "
   ]
  },
  {
   "cell_type": "code",
   "execution_count": null,
   "id": "e06bb0ab",
   "metadata": {},
   "outputs": [],
   "source": [
    "#WAP a program to input a number and then print with a suitable message \n",
    "#whether it is divisible by 17 or not"
   ]
  },
  {
   "cell_type": "code",
   "execution_count": 27,
   "id": "c2f3b9fc",
   "metadata": {},
   "outputs": [
    {
     "name": "stdout",
     "output_type": "stream",
     "text": [
      "Enter the number : 65\n",
      "Not Divisible\n"
     ]
    }
   ],
   "source": [
    "def solve(number) :\n",
    "    while(number // 100) :\n",
    "        last_digit = number % 10\n",
    "        number //= 10\n",
    "        number -= last_digit * 5\n",
    "    return (number % 17 == 0)\n",
    "number = int(input(\"Enter the number : \"))\n",
    "if solve(number) :\n",
    "    print(\"Divisible\")\n",
    "else :\n",
    "    print(\"Not Divisible\")"
   ]
  },
  {
   "cell_type": "code",
   "execution_count": null,
   "id": "e23f1895",
   "metadata": {},
   "outputs": [],
   "source": [
    "#WAP a programs to input a number and print weather it is Odd or Even."
   ]
  },
  {
   "cell_type": "code",
   "execution_count": 24,
   "id": "d6855b49",
   "metadata": {},
   "outputs": [
    {
     "name": "stdout",
     "output_type": "stream",
     "text": [
      "Enter number of choice to check is it's even or odd : 5696\n",
      "The provided number is even\n"
     ]
    }
   ],
   "source": [
    "num = int(input(\"Enter number of choice to check is it's even or odd : \"))\n",
    "if(num % 2) == 0:\n",
    "    print(\"The provided number is even\")\n",
    "else:\n",
    "    print(\"The provided number is odd\")"
   ]
  },
  {
   "cell_type": "code",
   "execution_count": null,
   "id": "dd48c1f9",
   "metadata": {},
   "outputs": [],
   "source": [
    "#Check whether the given number is positive, negative or equal to zero(input)"
   ]
  },
  {
   "cell_type": "code",
   "execution_count": 12,
   "id": "ee819042",
   "metadata": {},
   "outputs": [
    {
     "name": "stdout",
     "output_type": "stream",
     "text": [
      "Input a number: 52.36\n",
      "It is positive number\n"
     ]
    }
   ],
   "source": [
    "num = float(input(\"Input a number: \"))\n",
    "if num > 0:\n",
    "    print(\"It is positive number\")\n",
    "elif num == 0:\n",
    "    print(\"It is Zero\")\n",
    "else:\n",
    "    print(\"It is a negative number\")"
   ]
  },
  {
   "cell_type": "code",
   "execution_count": null,
   "id": "9975f906",
   "metadata": {},
   "outputs": [],
   "source": [
    "#check whether 'a' is in 'Python' string or not"
   ]
  },
  {
   "cell_type": "code",
   "execution_count": 26,
   "id": "bc946f3b",
   "metadata": {},
   "outputs": [
    {
     "name": "stdout",
     "output_type": "stream",
     "text": [
      "FALSE\n"
     ]
    }
   ],
   "source": [
    "str1 = \"python\" \n",
    "if \"a\" == str1:\n",
    "    print(\"TRUE\")\n",
    "else:\n",
    "    print(\"FALSE\") "
   ]
  },
  {
   "cell_type": "code",
   "execution_count": null,
   "id": "b184dc8d",
   "metadata": {},
   "outputs": [],
   "source": [
    "#Find the largest number among three number with user input"
   ]
  },
  {
   "cell_type": "code",
   "execution_count": 14,
   "id": "22f1bc6f",
   "metadata": {},
   "outputs": [
    {
     "name": "stdout",
     "output_type": "stream",
     "text": [
      "Enter the 1st number of choice : 528\n",
      "Enter the 2nd number of choice : 496\n",
      "Enter the 3rd number of choice : 788\n",
      "Number 788 number is the Greater one\n"
     ]
    }
   ],
   "source": [
    "num1 = int(input(\"Enter the 1st number of choice : \"))\n",
    "num2 = int(input(\"Enter the 2nd number of choice : \"))\n",
    "num3 = int(input(\"Enter the 3rd number of choice : \"))\n",
    "if num1 > num2 and num1 > num3:\n",
    "    print(\"Number\", num1, \"number is the Greater one\")\n",
    "elif num2 > num1 and num2 > num3:\n",
    "    print(\"Number\", num2, \"number is the Greater one\")\n",
    "else:\n",
    "    print(\"Number\", num3, \"number is the Greater one\") "
   ]
  },
  {
   "cell_type": "code",
   "execution_count": null,
   "id": "7def3e7e",
   "metadata": {},
   "outputs": [],
   "source": [
    "#Check whether year is leap year or not"
   ]
  },
  {
   "cell_type": "code",
   "execution_count": 16,
   "id": "74635303",
   "metadata": {},
   "outputs": [
    {
     "name": "stdout",
     "output_type": "stream",
     "text": [
      "Enter the year : 2004\n",
      "The year 2004 is a Leap Year\n"
     ]
    }
   ],
   "source": [
    "year = int(input(\"Enter the year : \"))\n",
    "if year%4 == 0 and year%100 != 0:\n",
    "    print(\"The year\", year, \"is a Leap Year\")\n",
    "elif year%400 == 0 and year%100 == 0:\n",
    "    print(\"The year\", year, \"is a Leap Year\")\n",
    "else: \n",
    "    print(\"The year\", year, \"is not a Leap Year\") "
   ]
  },
  {
   "cell_type": "code",
   "execution_count": null,
   "id": "2faa6f98",
   "metadata": {},
   "outputs": [],
   "source": [
    "#Accept the following from the user and calculate the percentage of class attended: \n",
    "#a. Total number of working days \n",
    "#b. Total number of days for present,\n",
    "#After calculating percentage show that,If the percentage is less than 75,\n",
    "#than student will not be able to sit in exam."
   ]
  },
  {
   "cell_type": "code",
   "execution_count": 43,
   "id": "e7eb3c88",
   "metadata": {},
   "outputs": [
    {
     "name": "stdout",
     "output_type": "stream",
     "text": [
      "Number of Working Days are : 100\n",
      "Number of days Attended are : 80\n",
      "80.0\n",
      "The student is able to sit for the exam\n"
     ]
    }
   ],
   "source": [
    "wd = int(input(\"Number of Working Days are : \"))\n",
    "pd = int(input(\"Number of days Attended are : \"))\n",
    "Percentage = (pd*100)/100\n",
    "print(Percentage)\n",
    "if Percentage > 75:\n",
    "    print(\"The student is able to sit for the exam\")\n",
    "else:\n",
    "    print(\"The student is not able to sit for the exam\") "
   ]
  },
  {
   "cell_type": "code",
   "execution_count": null,
   "id": "f611344f",
   "metadata": {},
   "outputs": [],
   "source": [
    "#Check whether the letter is vowel or not"
   ]
  },
  {
   "cell_type": "code",
   "execution_count": 4,
   "id": "fa0deee1",
   "metadata": {},
   "outputs": [
    {
     "name": "stdout",
     "output_type": "stream",
     "text": [
      "Enter the Letter : i\n",
      "The Letter i is a Vowel\n"
     ]
    }
   ],
   "source": [
    "Vowels = [\"a\",\"e\",\"i\",\"o\",\"u\",\"A\",\"E\",\"I\",\"O\",\"U\"]\n",
    "Letter = input(\"Enter the Letter : \")\n",
    "if Letter in Vowels:\n",
    "    print(\"The Letter\", Letter, \"is a Vowel\")\n",
    "else: \n",
    "    print(\"The letter\", Letter, \"is not a Vowel\") "
   ]
  },
  {
   "cell_type": "code",
   "execution_count": null,
   "id": "a30d6cb3",
   "metadata": {},
   "outputs": [],
   "source": [
    "#Accept any city from the user and display monument of that city.\n",
    "#                  City                                 Monument\n",
    "#                 Delhi                               Red Fort\n",
    "#                Agra                                Taj Mahal\n",
    "#               Jaipur                              Jal Mahal"
   ]
  },
  {
   "cell_type": "code",
   "execution_count": 3,
   "id": "5b2f4cc5",
   "metadata": {},
   "outputs": [
    {
     "name": "stdout",
     "output_type": "stream",
     "text": [
      "Enter the name of a City : Mumbai\n",
      "Please Enter the Appropriate City Name\n"
     ]
    }
   ],
   "source": [
    "city = input(\"Enter the name of a City : \")\n",
    "if city == 'Delhi':\n",
    "    print(\"The Historical Monument of\",city, \"is The Red Fort\")\n",
    "elif city == 'Agra':\n",
    "    print(\"The Historical Monument of\",city, \"is The Taj Mahal\")\n",
    "elif city == 'Jaipur':\n",
    "    print(\"The Historical Monument of\",city, \"is The Jal Mahal\")\n",
    "else:\n",
    "    print(\"Please Enter the Appropriate City Name\")    "
   ]
  },
  {
   "cell_type": "code",
   "execution_count": null,
   "id": "11ab4c60",
   "metadata": {},
   "outputs": [],
   "source": [
    "#Check whether the person is eligible for voting or not."
   ]
  },
  {
   "cell_type": "code",
   "execution_count": 5,
   "id": "7f003b08",
   "metadata": {},
   "outputs": [
    {
     "name": "stdout",
     "output_type": "stream",
     "text": [
      "Enter name of the voter : Tasmay Wairkar\n",
      "Please enter age of the voter : 1\n",
      "Tasmay Wairkar is out of age eligibility criteria for voting.\n"
     ]
    }
   ],
   "source": [
    "name = input(\"Enter name of the voter : \")\n",
    "age = int(input(\"Please enter age of the voter : \"))\n",
    "if age >= 18:\n",
    "    print(name, \"is Eligible to Vote for the election.\") \n",
    "else:\n",
    "    print(name, \"is out of age eligibility criteria for voting.\") "
   ]
  },
  {
   "cell_type": "code",
   "execution_count": null,
   "id": "75378403",
   "metadata": {},
   "outputs": [],
   "source": [
    "#Check whether the figure is square or not by giving length and breadth"
   ]
  },
  {
   "cell_type": "code",
   "execution_count": 9,
   "id": "333ebf8c",
   "metadata": {},
   "outputs": [
    {
     "name": "stdout",
     "output_type": "stream",
     "text": [
      "Enter Length : 12\n",
      "Enter Breadth : 12\n",
      "The given figure is Square\n"
     ]
    }
   ],
   "source": [
    "length = int(input(\"Enter Length : \"))\n",
    "breadth = int(input(\"Enter Breadth : \"))\n",
    "if length == breadth:\n",
    "    print(\"The given figure is Square\")\n",
    "else:\n",
    "    print(\"The given figure is not Square\") "
   ]
  },
  {
   "cell_type": "code",
   "execution_count": null,
   "id": "ae3cd00c",
   "metadata": {},
   "outputs": [],
   "source": [
    "#Make a simple calculator using input"
   ]
  },
  {
   "cell_type": "code",
   "execution_count": 3,
   "id": "8eaf54e7",
   "metadata": {},
   "outputs": [
    {
     "name": "stdout",
     "output_type": "stream",
     "text": [
      "Select the operation you want to execute.\n",
      "1.Addition\n",
      "2.Subtraction\n",
      "3.Multiplication\n",
      "4.Division\n",
      "Please select operation (1/2/3/4) : 2\n",
      "Enter the First Number : 45\n",
      "Enter the Second Number : 5\n",
      "40\n"
     ]
    }
   ],
   "source": [
    "print(\"Select the operation you want to execute.\")\n",
    "print(\"1.Addition\")\n",
    "print(\"2.Subtraction\")\n",
    "print(\"3.Multiplication\")\n",
    "print(\"4.Division\")\n",
    "print(\"5.Floor Division\")\n",
    "\n",
    "choice = input(\"Please select operation (1/2/3/4) : \")\n",
    "num1 = int(input(\"Enter the First Number : \"))\n",
    "num2 = int(input(\"Enter the Second Number : \"))\n",
    "\n",
    "if choice == \"1\":\n",
    "    print(num1 + num2)\n",
    "elif choice == \"2\":\n",
    "    print(num1 - num2)\n",
    "elif choice == \"3\":\n",
    "    print(num1 * num2)\n",
    "elif choice == \"4\":\n",
    "    print(num1 / num2)\n",
    "else:\n",
    "    print(\"Please enter a valid Input\")"
   ]
  },
  {
   "cell_type": "code",
   "execution_count": null,
   "id": "9d5da59a",
   "metadata": {},
   "outputs": [],
   "source": []
  }
 ],
 "metadata": {
  "kernelspec": {
   "display_name": "Python 3 (ipykernel)",
   "language": "python",
   "name": "python3"
  },
  "language_info": {
   "codemirror_mode": {
    "name": "ipython",
    "version": 3
   },
   "file_extension": ".py",
   "mimetype": "text/x-python",
   "name": "python",
   "nbconvert_exporter": "python",
   "pygments_lexer": "ipython3",
   "version": "3.9.7"
  }
 },
 "nbformat": 4,
 "nbformat_minor": 5
}
