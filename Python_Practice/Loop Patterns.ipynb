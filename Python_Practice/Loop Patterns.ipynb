{
 "cells": [
  {
   "cell_type": "code",
   "execution_count": null,
   "id": "d2661525",
   "metadata": {},
   "outputs": [],
   "source": [
    "#r-*\n",
    "#  *   *\n",
    "#  *   *   *\n",
    "#  *   *   *   *\n",
    "#  *   *   *   *   *"
   ]
  },
  {
   "cell_type": "code",
   "execution_count": 5,
   "id": "dee0d5cb",
   "metadata": {},
   "outputs": [
    {
     "name": "stdout",
     "output_type": "stream",
     "text": [
      "\n",
      "* \n",
      "* * \n",
      "* * * \n",
      "* * * * \n",
      "* * * * * \n"
     ]
    }
   ],
   "source": [
    "for i in range(6):\n",
    "    for j in range(1, i+1):\n",
    "        print(\"*\", end=\" \")\n",
    "    print()    "
   ]
  },
  {
   "cell_type": "code",
   "execution_count": null,
   "id": "ea067247",
   "metadata": {},
   "outputs": [],
   "source": [
    "#a)\n",
    "\n",
    "1\n",
    "\n",
    "1 2\n",
    "\n",
    "1 2 3\n",
    "\n",
    "1 2 3 4\n",
    "\n",
    "1 2 3 4 5"
   ]
  },
  {
   "cell_type": "code",
   "execution_count": 54,
   "id": "b371e43b",
   "metadata": {},
   "outputs": [
    {
     "name": "stdout",
     "output_type": "stream",
     "text": [
      "\n",
      "1 \n",
      "1 2 \n",
      "1 2 3 \n",
      "1 2 3 4 \n",
      "1 2 3 4 5 \n"
     ]
    }
   ],
   "source": [
    "for a in range(6):\n",
    "    for b in range(1,a+1):\n",
    "        print(b, end=\" \")\n",
    "    print()    "
   ]
  },
  {
   "cell_type": "code",
   "execution_count": null,
   "id": "7c3f0546",
   "metadata": {},
   "outputs": [],
   "source": [
    "#e-\n",
    "1\n",
    "\n",
    "2 2\n",
    "\n",
    "3 3 3\n",
    "\n",
    "4 4 4 4\n",
    "\n",
    "5 5 5 5 5\n"
   ]
  },
  {
   "cell_type": "code",
   "execution_count": 10,
   "id": "7dc32330",
   "metadata": {},
   "outputs": [
    {
     "name": "stdout",
     "output_type": "stream",
     "text": [
      "\n",
      "1 \n",
      "2 2 \n",
      "3 3 3 \n",
      "4 4 4 4 \n",
      "5 5 5 5 5 \n"
     ]
    }
   ],
   "source": [
    "for a in range(6):\n",
    "    for b in range(1, a+1):\n",
    "        print(a, end=\" \")\n",
    "    print()"
   ]
  },
  {
   "cell_type": "code",
   "execution_count": null,
   "id": "12677935",
   "metadata": {},
   "outputs": [],
   "source": [
    "#f-\n",
    "5\n",
    "4 4\n",
    "3 3 3\n",
    "2 2 2 2\n",
    "1 1 1 1 1"
   ]
  },
  {
   "cell_type": "code",
   "execution_count": 19,
   "id": "3a5410d9",
   "metadata": {},
   "outputs": [
    {
     "name": "stdout",
     "output_type": "stream",
     "text": [
      "5 \n",
      "4 4 \n",
      "3 3 3 \n",
      "2 2 2 2 \n",
      "1 1 1 1 1 \n"
     ]
    }
   ],
   "source": [
    "for a in range(5,0,-1):\n",
    "    for b in range(5, a-1,-1):\n",
    "        print(a, end=\" \")\n",
    "    print()"
   ]
  },
  {
   "cell_type": "code",
   "execution_count": null,
   "id": "7b2f7563",
   "metadata": {},
   "outputs": [],
   "source": [
    "#g)\n",
    "5\n",
    "5 4\n",
    "5 4 3\n",
    "5 4 3 2\n",
    "5 4 3 2 1"
   ]
  },
  {
   "cell_type": "code",
   "execution_count": 62,
   "id": "76d6c684",
   "metadata": {},
   "outputs": [
    {
     "name": "stdout",
     "output_type": "stream",
     "text": [
      "5 5 5 5 5 \n",
      "4 4 4 4 \n",
      "3 3 3 \n",
      "2 2 \n",
      "1 \n"
     ]
    }
   ],
   "source": [
    "for a in range(5,0,-1):\n",
    "    for b in range(a):\n",
    "        print(a, end=\" \")\n",
    "    print()"
   ]
  },
  {
   "cell_type": "code",
   "execution_count": 48,
   "id": "53c7b378",
   "metadata": {},
   "outputs": [
    {
     "name": "stdout",
     "output_type": "stream",
     "text": [
      "5 5 5 5 5 \n",
      "4 4 4 4 \n",
      "3 3 3 \n",
      "2 2 \n",
      "1 \n"
     ]
    }
   ],
   "source": [
    "#-C.\n",
    "for a in range(5,0,-1):\n",
    "    for b in range(a):\n",
    "        print(a, end=\" \")\n",
    "    print()"
   ]
  },
  {
   "cell_type": "code",
   "execution_count": 36,
   "id": "8b88d14a",
   "metadata": {},
   "outputs": [
    {
     "name": "stdout",
     "output_type": "stream",
     "text": [
      "5 4 3 2 1 \n",
      "5 4 3 2 \n",
      "5 4 3 \n",
      "5 4 \n",
      "5 \n"
     ]
    }
   ],
   "source": [
    "#B-\n",
    "for s in range(5):\n",
    "    for t in range(5,s,-1):\n",
    "        print(t,end=\" \")\n",
    "    print()    "
   ]
  },
  {
   "cell_type": "code",
   "execution_count": null,
   "id": "1f4e6a0e",
   "metadata": {},
   "outputs": [],
   "source": [
    "#d)\n",
    "\n",
    "1 2 3 4 5\n",
    "\n",
    "1 2 3 4\n",
    "\n",
    "1 2 3\n",
    "\n",
    "1 2\n",
    "\n",
    "1"
   ]
  },
  {
   "cell_type": "code",
   "execution_count": 27,
   "id": "bf345423",
   "metadata": {},
   "outputs": [
    {
     "name": "stdout",
     "output_type": "stream",
     "text": [
      "1 2 3 4 5 \n",
      "1 2 3 4 \n",
      "1 2 3 \n",
      "1 2 \n",
      "1 \n",
      "\n"
     ]
    }
   ],
   "source": [
    "for a in range(6,0,-1):\n",
    "    for b in range(1,a):\n",
    "        print(b, end=\" \")\n",
    "    print()    "
   ]
  },
  {
   "cell_type": "code",
   "execution_count": null,
   "id": "b54e461e",
   "metadata": {},
   "outputs": [],
   "source": [
    "#s)\n",
    "\n",
    "*   *   *   *   *\n",
    "*   *   *   *\n",
    "*   *   *\n",
    "*   *\n",
    "*"
   ]
  },
  {
   "cell_type": "code",
   "execution_count": 28,
   "id": "197ca7c0",
   "metadata": {},
   "outputs": [
    {
     "name": "stdout",
     "output_type": "stream",
     "text": [
      "* * * * * \n",
      "* * * * \n",
      "* * * \n",
      "* * \n",
      "* \n"
     ]
    }
   ],
   "source": [
    "for s in range(5):\n",
    "    for t in range(5,s,-1):\n",
    "        print(\"*\",end=\" \")\n",
    "    print()"
   ]
  },
  {
   "cell_type": "code",
   "execution_count": 58,
   "id": "ee3256f1",
   "metadata": {},
   "outputs": [
    {
     "name": "stdout",
     "output_type": "stream",
     "text": [
      "        1 \n",
      "      1 2 \n",
      "    1 2 3 \n",
      "  1 2 3 4 \n",
      "1 2 3 4 5 \n"
     ]
    }
   ],
   "source": [
    "for i in range(5):\n",
    "    for j in range(5-i-1):\n",
    "        print(\" \",end=\" \")\n",
    "    for j in range(i+1):\n",
    "        print(j+1, end=\" \")\n",
    "    print()    "
   ]
  },
  {
   "cell_type": "code",
   "execution_count": 61,
   "id": "2390d9e3",
   "metadata": {},
   "outputs": [
    {
     "name": "stdout",
     "output_type": "stream",
     "text": [
      "        1 \n",
      "      2 2 \n",
      "    3 3 3 \n",
      "  4 4 4 4 \n",
      "5 5 5 5 5 \n"
     ]
    }
   ],
   "source": [
    "for i in range(5):\n",
    "    for j in range(5-i-1):\n",
    "        print(\" \",end=\" \")\n",
    "    for j in range(i+1):\n",
    "        print(i+1, end=\" \")\n",
    "    print() "
   ]
  },
  {
   "cell_type": "code",
   "execution_count": 62,
   "id": "3d2d8ed9",
   "metadata": {},
   "outputs": [
    {
     "name": "stdout",
     "output_type": "stream",
     "text": [
      "        * \n",
      "      * * \n",
      "    * * * \n",
      "  * * * * \n",
      "* * * * * \n"
     ]
    }
   ],
   "source": [
    "for i in range(5):\n",
    "    for j in range(5-i-1):\n",
    "        print(\" \",end=\" \")\n",
    "    for j in range(i+1):\n",
    "        print(\"*\", end=\" \")\n",
    "    print() "
   ]
  },
  {
   "cell_type": "code",
   "execution_count": 5,
   "id": "afef6855",
   "metadata": {},
   "outputs": [
    {
     "name": "stdout",
     "output_type": "stream",
     "text": [
      "1 \n",
      "2 3 \n",
      "4 5 6 \n",
      "7 8 9 10 \n"
     ]
    }
   ],
   "source": [
    "a=1\n",
    "b=2\n",
    "for i in range(4):\n",
    "    for j in range(1,b):\n",
    "        print(a, end=\" \")\n",
    "        a += 1\n",
    "    print()\n",
    "    b +=1"
   ]
  },
  {
   "cell_type": "code",
   "execution_count": 20,
   "id": "9666af91",
   "metadata": {},
   "outputs": [
    {
     "name": "stdout",
     "output_type": "stream",
     "text": [
      "\n",
      "A \n",
      "A B \n",
      "A B C \n",
      "A B C D \n",
      "A B C D E\n"
     ]
    }
   ],
   "source": [
    "str = \"A B C D E\"\n",
    "for i in range(6):\n",
    "    print(str[:i*2])"
   ]
  },
  {
   "cell_type": "code",
   "execution_count": 23,
   "id": "c318e046",
   "metadata": {},
   "outputs": [
    {
     "name": "stdout",
     "output_type": "stream",
     "text": [
      "A\n",
      "BB\n",
      "CCC\n",
      "DDDD\n",
      "EEEEE\n"
     ]
    }
   ],
   "source": [
    "str = \"ABCDE\"\n",
    "for i in range(5):\n",
    "    print(str[i]*(i+1))"
   ]
  },
  {
   "cell_type": "code",
   "execution_count": 1,
   "id": "9e460c4c",
   "metadata": {},
   "outputs": [
    {
     "name": "stdout",
     "output_type": "stream",
     "text": [
      "P \n",
      "P Y \n",
      "P Y T \n",
      "P Y T H \n",
      "P Y T H O \n",
      "P Y T H O N \n"
     ]
    }
   ],
   "source": [
    "str = \"PYTHON\"\n",
    "for i in range(len(str)):\n",
    "    for j in range(i+1):\n",
    "        print(str[j], end=\" \")\n",
    "    print()    "
   ]
  },
  {
   "cell_type": "code",
   "execution_count": 2,
   "id": "4c1c3848",
   "metadata": {},
   "outputs": [
    {
     "name": "stdout",
     "output_type": "stream",
     "text": [
      "         1 \n",
      "       2 2 2 \n",
      "     3 3 3 3 3 \n",
      "   4 4 4 4 4 4 4 \n",
      " 5 5 5 5 5 5 5 5 5 \n"
     ]
    }
   ],
   "source": [
    "num = 5\n",
    "for i in range (1, num + 1):\n",
    "      sp = (num - i) * \"  \"\n",
    "      print(sp, end = \" \")\n",
    "      for k in range(i, 1, -1):\n",
    "          print(i, end = \" \")\n",
    "      for j in range(1, i + 1):\n",
    "          print(i, end = \" \")\n",
    "      print()    "
   ]
  },
  {
   "cell_type": "code",
   "execution_count": 10,
   "id": "c5f328a7",
   "metadata": {},
   "outputs": [
    {
     "name": "stdout",
     "output_type": "stream",
     "text": [
      "        * \n",
      "      * * * \n",
      "    * * * * * \n",
      "  * * * * * * * \n",
      "* * * * * * * * * \n"
     ]
    }
   ],
   "source": [
    "for i in range(5):\n",
    "    for j in range(5-i-1):\n",
    "        print(\" \",end=\" \")\n",
    "    for j in range(i+1):\n",
    "        print(\"*\", end=\" \")\n",
    "    for j in range(1, i+1):\n",
    "        print(\"*\", end=\" \")\n",
    "    print() "
   ]
  },
  {
   "cell_type": "code",
   "execution_count": null,
   "id": "a4ac011f",
   "metadata": {},
   "outputs": [],
   "source": [
    "#k-\n",
    "1\n",
    "2 1\n",
    "3 2 1\n",
    "4 3 2 1\n",
    "5 4 3 2 1"
   ]
  },
  {
   "cell_type": "code",
   "execution_count": 67,
   "id": "8a9f2678",
   "metadata": {},
   "outputs": [
    {
     "name": "stdout",
     "output_type": "stream",
     "text": [
      "\n",
      "1 \n",
      "2 1 \n",
      "3 2 1 \n",
      "4 3 2 1 \n",
      "5 4 3 2 1 \n"
     ]
    }
   ],
   "source": [
    "for a in range(6):\n",
    "    for b in range(a, 0, -1):\n",
    "        print(b, end=\" \")\n",
    "    print() "
   ]
  },
  {
   "cell_type": "code",
   "execution_count": null,
   "id": "3acfbb06",
   "metadata": {},
   "outputs": [],
   "source": [
    "#m)\n",
    "1\n",
    "2 3 4\n",
    "5 6 7 8 9"
   ]
  },
  {
   "cell_type": "code",
   "execution_count": 70,
   "id": "0eee3a8c",
   "metadata": {},
   "outputs": [
    {
     "name": "stdout",
     "output_type": "stream",
     "text": [
      "1 \n",
      "2 3 4 \n",
      "5 6 7 8 9 \n"
     ]
    }
   ],
   "source": [
    "a=1\n",
    "b=2\n",
    "for i in range(3):\n",
    "    for j in range(1,b):\n",
    "        print(a, end=\" \")\n",
    "        a += 1\n",
    "    print()\n",
    "    b +=2"
   ]
  },
  {
   "cell_type": "code",
   "execution_count": null,
   "id": "7741d3f5",
   "metadata": {},
   "outputs": [],
   "source": [
    "#n)\n",
    "0  \n",
    "0 1  \n",
    "0 2 4  \n",
    "0 3 6 9\n",
    "0 4 8 12 16  "
   ]
  },
  {
   "cell_type": "code",
   "execution_count": 110,
   "id": "fcf471a8",
   "metadata": {},
   "outputs": [
    {
     "name": "stdout",
     "output_type": "stream",
     "text": [
      "0 \n",
      "0 1 \n",
      "0 2 4 \n",
      "0 3 6 9 \n",
      "0 4 8 12 16 \n"
     ]
    }
   ],
   "source": [
    "rows=4\n",
    "for i in range(0, rows+1):\n",
    "    for j in range(0,i+1):\n",
    "        print(i*j, end=\" \")\n",
    "    print()"
   ]
  },
  {
   "cell_type": "code",
   "execution_count": null,
   "id": "89f91f2b",
   "metadata": {},
   "outputs": [],
   "source": [
    "#p)\n",
    "1\n",
    "4 4\n",
    "9 9 9\n",
    "16 16 16 16\n",
    "25 25 25 25 25"
   ]
  },
  {
   "cell_type": "code",
   "execution_count": 157,
   "id": "7669f731",
   "metadata": {},
   "outputs": [
    {
     "name": "stdout",
     "output_type": "stream",
     "text": [
      "1 \n",
      "2 2 \n",
      "3 3 3 \n",
      "4 4 4 4 \n",
      "5 5 5 5 5 \n"
     ]
    }
   ],
   "source": [
    "rows=5\n",
    "for s in range(1,rows+1):\n",
    "    for t in range(s):\n",
    "        print(s, end = \" \")\n",
    "    print()"
   ]
  },
  {
   "cell_type": "code",
   "execution_count": null,
   "id": "cd67aaf9",
   "metadata": {},
   "outputs": [],
   "source": [
    "#q)\n",
    "1\n",
    "3 3\n",
    "5 5 5\n",
    "7 7 7 7\n",
    "9 9 9 9 9"
   ]
  },
  {
   "cell_type": "code",
   "execution_count": 117,
   "id": "9c848cda",
   "metadata": {},
   "outputs": [
    {
     "name": "stdout",
     "output_type": "stream",
     "text": [
      "1 \n",
      "3 3 \n",
      "5 5 5 \n",
      "7 7 7 7 \n",
      "9 9 9 9 9 \n"
     ]
    }
   ],
   "source": [
    "rows=5\n",
    "for s in range(1,rows+1):\n",
    "    for t in range(s):\n",
    "        print(s*2-1, end = \" \")\n",
    "    print()    "
   ]
  }
 ],
 "metadata": {
  "kernelspec": {
   "display_name": "Python 3 (ipykernel)",
   "language": "python",
   "name": "python3"
  },
  "language_info": {
   "codemirror_mode": {
    "name": "ipython",
    "version": 3
   },
   "file_extension": ".py",
   "mimetype": "text/x-python",
   "name": "python",
   "nbconvert_exporter": "python",
   "pygments_lexer": "ipython3",
   "version": "3.9.7"
  }
 },
 "nbformat": 4,
 "nbformat_minor": 5
}
