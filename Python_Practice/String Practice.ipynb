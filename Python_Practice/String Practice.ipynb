{
 "cells": [
  {
   "cell_type": "code",
   "execution_count": 9,
   "id": "8fd9e24b",
   "metadata": {},
   "outputs": [
    {
     "name": "stdout",
     "output_type": "stream",
     "text": [
      "I Love Python Program\n"
     ]
    }
   ],
   "source": [
    "x ='i LoVe pYtHoN PrOGrAm' - #Q-2\n",
    "y = x.title()\n",
    "print(y) "
   ]
  },
  {
   "cell_type": "code",
   "execution_count": 10,
   "id": "f1eebd94",
   "metadata": {},
   "outputs": [
    {
     "name": "stdout",
     "output_type": "stream",
     "text": [
      "i love python program\n"
     ]
    }
   ],
   "source": [
    "x ='i LoVe pYtHoN PrOGrAm' - #Q-3\n",
    "z = x.lower()\n",
    "print(z) "
   ]
  },
  {
   "cell_type": "code",
   "execution_count": 11,
   "id": "3fc04ce9",
   "metadata": {},
   "outputs": [
    {
     "name": "stdout",
     "output_type": "stream",
     "text": [
      "I love python program\n"
     ]
    }
   ],
   "source": [
    "x ='i LoVe pYtHoN PrOGrAm' - #Q-1\n",
    "a = x.capitalize()\n",
    "print(a) "
   ]
  },
  {
   "cell_type": "code",
   "execution_count": 12,
   "id": "858df485",
   "metadata": {},
   "outputs": [
    {
     "name": "stdout",
     "output_type": "stream",
     "text": [
      "I LOVE PYTHON PROGRAM\n"
     ]
    }
   ],
   "source": [
    "x ='i LoVe pYtHoN PrOGrAm' - #Q-4\n",
    "b = x.upper()\n",
    "print(b) "
   ]
  },
  {
   "cell_type": "code",
   "execution_count": 13,
   "id": "ae177df3",
   "metadata": {},
   "outputs": [
    {
     "name": "stdout",
     "output_type": "stream",
     "text": [
      "['i', 'LoVe', 'pYtHoN', 'PrOGrAm']\n"
     ]
    }
   ],
   "source": [
    "c = x.split() - #Q-5\n",
    "print(c) "
   ]
  },
  {
   "cell_type": "code",
   "execution_count": 14,
   "id": "6f934843",
   "metadata": {},
   "outputs": [
    {
     "name": "stdout",
     "output_type": "stream",
     "text": [
      "My Name is Python, and My Age is 30\n"
     ]
    }
   ],
   "source": [
    "string = \"My Name is {name}, and My Age is {age}\" -#Q-6\n",
    "print(string.format(name = \"Python\", age = 30)) "
   ]
  },
  {
   "cell_type": "code",
   "execution_count": 19,
   "id": "408840a4",
   "metadata": {},
   "outputs": [
    {
     "name": "stdout",
     "output_type": "stream",
     "text": [
      "pYtHoN\n"
     ]
    }
   ],
   "source": [
    "x ='i LoVe pYtHoN PrOGrAm' -#Q-7\n",
    "print(x[7:13])  "
   ]
  }
 ],
 "metadata": {
  "kernelspec": {
   "display_name": "Python 3 (ipykernel)",
   "language": "python",
   "name": "python3"
  },
  "language_info": {
   "codemirror_mode": {
    "name": "ipython",
    "version": 3
   },
   "file_extension": ".py",
   "mimetype": "text/x-python",
   "name": "python",
   "nbconvert_exporter": "python",
   "pygments_lexer": "ipython3",
   "version": "3.9.7"
  }
 },
 "nbformat": 4,
 "nbformat_minor": 5
}
