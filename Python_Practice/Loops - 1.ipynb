{
 "cells": [
  {
   "cell_type": "code",
   "execution_count": null,
   "id": "529e402b",
   "metadata": {},
   "outputs": [],
   "source": [
    "#Q1. Write a program to print first 10 even numbers.\n",
    "\n",
    "#Q2. Write a program to print first 10 odd numbers.\n",
    "\n",
    "#Q3. Write a program to print first 10 even numbers in reverse order.\n",
    "\n",
    "#Q6. Write a program to print numbers from 1 to 20 except multiple of 2 & 3."
   ]
  },
  {
   "cell_type": "code",
   "execution_count": 5,
   "id": "489b8771",
   "metadata": {},
   "outputs": [
    {
     "name": "stdout",
     "output_type": "stream",
     "text": [
      "0\n",
      "2\n",
      "4\n",
      "6\n",
      "8\n",
      "10\n"
     ]
    }
   ],
   "source": [
    "for i in range(0,11,2):\n",
    "    print(i)"
   ]
  },
  {
   "cell_type": "code",
   "execution_count": 6,
   "id": "514afa67",
   "metadata": {},
   "outputs": [
    {
     "name": "stdout",
     "output_type": "stream",
     "text": [
      "1\n",
      "3\n",
      "5\n",
      "7\n",
      "9\n"
     ]
    }
   ],
   "source": [
    "for x in range(1,11,2):\n",
    "    print(x)"
   ]
  },
  {
   "cell_type": "code",
   "execution_count": 10,
   "id": "128e741a",
   "metadata": {},
   "outputs": [
    {
     "name": "stdout",
     "output_type": "stream",
     "text": [
      "10\n",
      "8\n",
      "6\n",
      "4\n",
      "2\n"
     ]
    }
   ],
   "source": [
    "for a in range(10,0,-2):\n",
    "    print(a)"
   ]
  },
  {
   "cell_type": "code",
   "execution_count": 16,
   "id": "3efdbf5a",
   "metadata": {},
   "outputs": [
    {
     "name": "stdout",
     "output_type": "stream",
     "text": [
      "1\n",
      "5\n",
      "7\n",
      "11\n",
      "13\n",
      "17\n",
      "19\n"
     ]
    }
   ],
   "source": [
    "for t in range(1,21):\n",
    "        if t%2!=0 and t%3!=0:\n",
    "            print(t)"
   ]
  },
  {
   "cell_type": "code",
   "execution_count": null,
   "id": "178b4143",
   "metadata": {},
   "outputs": [],
   "source": [
    "#Q7. Write a program to accept 10 numbers from the user and display it’s average.\n",
    "\n",
    "#Q8. Write a program to accept 10 numbers from the user and display the largest & smallest number.\n",
    "\n",
    "#Q9. Write a program to print only odd numbers from the given list using for loop.\n",
    "#L = [23, 45, 32, 25, 46, 33, 71, 90]"
   ]
  },
  {
   "cell_type": "code",
   "execution_count": 17,
   "id": "a7dde5e3",
   "metadata": {},
   "outputs": [
    {
     "name": "stdout",
     "output_type": "stream",
     "text": [
      "Enter Number of Choice : 1\n",
      "Enter Number of Choice : 5\n",
      "Enter Number of Choice : 8\n",
      "Enter Number of Choice : 4\n",
      "Enter Number of Choice : 9\n",
      "Enter Number of Choice : 3\n",
      "Enter Number of Choice : 2\n",
      "Enter Number of Choice : 10\n",
      "Enter Number of Choice : 8\n",
      "Enter Number of Choice : 12\n",
      "The sum of numbers is 62\n",
      "The Average of numbers is 6.2\n"
     ]
    }
   ],
   "source": [
    "s = 0\n",
    "for i in range(10):\n",
    "    n = int(input(\"Enter Number of Choice : \"))\n",
    "    s += n\n",
    "print(\"The sum of numbers is\", s)\n",
    "print(\"The Average of numbers is\", s/10) "
   ]
  },
  {
   "cell_type": "code",
   "execution_count": 1,
   "id": "f9972560",
   "metadata": {},
   "outputs": [
    {
     "name": "stdout",
     "output_type": "stream",
     "text": [
      "Enter the number of choice : 1\n",
      "Enter the number of choice : 2\n",
      "Enter the number of choice : 3\n",
      "Enter the number of choice : 4\n",
      "Enter the number of choice : 5\n",
      "Enter the number of choice : 6\n",
      "Enter the number of choice : 7\n",
      "Enter the number of choice : 8\n",
      "Enter the number of choice : 9\n",
      "Enter the number of choice : 100\n",
      "The smallest number in the list is 1\n",
      "The Largest number in the list is 100\n"
     ]
    }
   ],
   "source": [
    "l = []\n",
    "for i in range(10):\n",
    "    n = int(input(\"Enter the number of choice : \"))\n",
    "    l.append(n)\n",
    "print(\"The smallest number in the list is\", min(l))\n",
    "print(\"The Largest number in the list is\", max(l))"
   ]
  },
  {
   "cell_type": "code",
   "execution_count": 1,
   "id": "071b673b",
   "metadata": {},
   "outputs": [
    {
     "name": "stdout",
     "output_type": "stream",
     "text": [
      "23 45 25 33 71 "
     ]
    }
   ],
   "source": [
    "list1 = [23, 45, 32, 25, 46, 33, 71, 90]\n",
    "for i in list1:\n",
    "    if i % 2 != 0:\n",
    "        print(i, end=\" \")\n"
   ]
  },
  {
   "cell_type": "code",
   "execution_count": null,
   "id": "03bc546c",
   "metadata": {},
   "outputs": [],
   "source": []
  }
 ],
 "metadata": {
  "kernelspec": {
   "display_name": "Python 3 (ipykernel)",
   "language": "python",
   "name": "python3"
  },
  "language_info": {
   "codemirror_mode": {
    "name": "ipython",
    "version": 3
   },
   "file_extension": ".py",
   "mimetype": "text/x-python",
   "name": "python",
   "nbconvert_exporter": "python",
   "pygments_lexer": "ipython3",
   "version": "3.9.7"
  }
 },
 "nbformat": 4,
 "nbformat_minor": 5
}
